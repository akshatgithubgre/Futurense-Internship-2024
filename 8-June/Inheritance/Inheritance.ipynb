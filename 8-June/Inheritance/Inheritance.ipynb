{
 "cells": [
  {
   "cell_type": "markdown",
   "metadata": {},
   "source": [
    "# Basic Inheritance Syntac"
   ]
  },
  {
   "cell_type": "code",
   "execution_count": 10,
   "metadata": {},
   "outputs": [],
   "source": [
    "class ParentClass:\n",
    "    def parent_nethod(self):\n",
    "        print(\"This parent method\")\n",
    "class ChildClass(ParentClass):\n",
    "    def child_method(self):\n",
    "        print(\"This is child method\")"
   ]
  },
  {
   "cell_type": "markdown",
   "metadata": {},
   "source": [
    "# MRO(method resolution order)"
   ]
  },
  {
   "cell_type": "code",
   "execution_count": 11,
   "metadata": {},
   "outputs": [
    {
     "name": "stdout",
     "output_type": "stream",
     "text": [
      "Generic animal sound\n",
      "Woof!\n",
      "Meow!\n",
      "Woof!\n"
     ]
    }
   ],
   "source": [
    "class Animal:\n",
    "  def make_sound(self):\n",
    "    print(\"Generic animal sound\")\n",
    "class Dog(Animal):\n",
    "  def make_sound(self):\n",
    "    print(\"Woof!\")\n",
    "class Cat(Animal):\n",
    "  def make_sound(self):\n",
    "    print(\"Meow!\")\n",
    "class Poodle(Dog):\n",
    "  pass\n",
    "animals=[Animal(),Dog(),Cat(),Poodle()]\n",
    "for animal in animals:\n",
    "  animal.make_sound()"
   ]
  },
  {
   "cell_type": "markdown",
   "metadata": {},
   "source": [
    "# Single Inheritance"
   ]
  },
  {
   "cell_type": "code",
   "execution_count": 12,
   "metadata": {},
   "outputs": [
    {
     "name": "stdout",
     "output_type": "stream",
     "text": [
      "This function is in parent class.\n",
      "This function is in child class.\n"
     ]
    }
   ],
   "source": [
    "class Parent:\n",
    "    def func1(self):\n",
    "        print(\"This function is in parent class.\")\n",
    "class Child(Parent):\n",
    "    def func2(self):\n",
    "        print(\"This function is in child class.\")\n",
    "object=Child()\n",
    "object.func1()\n",
    "object.func2()"
   ]
  },
  {
   "cell_type": "markdown",
   "metadata": {},
   "source": [
    "# Multiple Inheritance"
   ]
  },
  {
   "cell_type": "code",
   "execution_count": 13,
   "metadata": {},
   "outputs": [
    {
     "name": "stdout",
     "output_type": "stream",
     "text": [
      "Father : RAM\n",
      "Mother : SITA\n"
     ]
    }
   ],
   "source": [
    "class Mother:\n",
    "    mothername=\"\"\n",
    "    def mother(self):\n",
    "        print(self.mothername)\n",
    "class Father:\n",
    "    fathername=\"\"\n",
    "    def father(self):\n",
    "        print(self.fathername)\n",
    "class Son(Mother,Father):\n",
    "    def parents(self):\n",
    "        print(\"Father :\",self.fathername)\n",
    "        print(\"Mother :\",self.mothername)\n",
    "s1=Son()\n",
    "s1.fathername=\"RAM\"\n",
    "s1.mothername=\"SITA\"\n",
    "s1.parents()"
   ]
  },
  {
   "cell_type": "markdown",
   "metadata": {},
   "source": [
    "# Multilevel Inheritance"
   ]
  },
  {
   "cell_type": "code",
   "execution_count": 14,
   "metadata": {},
   "outputs": [
    {
     "name": "stdout",
     "output_type": "stream",
     "text": [
      "Lal mani\n",
      "Grandfather name : Lal mani\n",
      "Father name : Rampal\n",
      "Son name : Prince\n"
     ]
    }
   ],
   "source": [
    "class Grandfather:\n",
    "\tdef __init__(self,grandfathername):\n",
    "\t\tself.grandfathername=grandfathername\n",
    "class Father(Grandfather):\n",
    "\tdef __init__(self,fathername,grandfathername):\n",
    "\t\tself.fathername=fathername\n",
    "\t\tGrandfather.__init__(self,grandfathername)\n",
    "class Son(Father):\n",
    "\tdef __init__(self,sonname,fathername,grandfathername):\n",
    "\t\tself.sonname=sonname\n",
    "\t\tFather.__init__(self,fathername,grandfathername)\n",
    "\tdef print_name(self):\n",
    "\t\tprint('Grandfather name :',self.grandfathername)\n",
    "\t\tprint(\"Father name :\",self.fathername)\n",
    "\t\tprint(\"Son name :\",self.sonname)\n",
    "s1=Son('Prince','Rampal','Lal mani')\n",
    "print(s1.grandfathername)\n",
    "s1.print_name()"
   ]
  },
  {
   "cell_type": "markdown",
   "metadata": {},
   "source": [
    "# Hierarchical Innheritance"
   ]
  },
  {
   "cell_type": "code",
   "execution_count": 15,
   "metadata": {},
   "outputs": [
    {
     "name": "stdout",
     "output_type": "stream",
     "text": [
      "This function is in parent class.\n",
      "This function is in child 1.\n",
      "This function is in parent class.\n",
      "This function is in child 2.\n"
     ]
    }
   ],
   "source": [
    "class Parent:\n",
    "\tdef func1(self):\n",
    "\t\tprint(\"This function is in parent class.\")\n",
    "class Child1(Parent):\n",
    "\tdef func2(self):\n",
    "\t\tprint(\"This function is in child 1.\")\n",
    "class Child2(Parent):\n",
    "\tdef func3(self):\n",
    "\t\tprint(\"This function is in child 2.\")\n",
    "object1=Child1()\n",
    "object2=Child2()\n",
    "object1.func1()\n",
    "object1.func2()\n",
    "object2.func1()\n",
    "object2.func3()"
   ]
  },
  {
   "cell_type": "markdown",
   "metadata": {},
   "source": [
    "# Hybrid Inheritance"
   ]
  },
  {
   "cell_type": "code",
   "execution_count": 16,
   "metadata": {},
   "outputs": [
    {
     "name": "stdout",
     "output_type": "stream",
     "text": [
      "This function is in school.\n",
      "This function is in student 1. \n"
     ]
    }
   ],
   "source": [
    "class School:\n",
    "\tdef func1(self):\n",
    "\t\tprint(\"This function is in school.\")\n",
    "class Student1(School):\n",
    "\tdef func2(self):\n",
    "\t\tprint(\"This function is in student 1. \")\n",
    "class Student2(School):\n",
    "\tdef func3(self):\n",
    "\t\tprint(\"This function is in student 2.\")\n",
    "class Student3(Student1, School):\n",
    "\tdef func4(self):\n",
    "\t\tprint(\"This function is in student 3.\")\n",
    "object=Student3()\n",
    "object.func1()\n",
    "object.func2()"
   ]
  },
  {
   "cell_type": "markdown",
   "metadata": {},
   "source": [
    "# Method Overriding"
   ]
  },
  {
   "cell_type": "code",
   "execution_count": 17,
   "metadata": {},
   "outputs": [
    {
     "name": "stdout",
     "output_type": "stream",
     "text": [
      "Area of square: 25\n",
      "Area of circle: 28.259999999999998\n"
     ]
    }
   ],
   "source": [
    "class Shape:\n",
    "  def area(self):\n",
    "    raise NotImplementedError(\"Subclasses must implement area()\")\n",
    "class Square(Shape):\n",
    "  def __init__(self,side):\n",
    "    self.side=side\n",
    "  def area(self):\n",
    "    return self.side*self.side\n",
    "class Circle(Shape):\n",
    "  def __init__(self,radius):\n",
    "    self.radius=radius\n",
    "  def area(self):\n",
    "    return 3.14*self.radius*self.radius\n",
    "square=Square(5)\n",
    "circle=Circle(3)\n",
    "print(f\"Area of square: {square.area()}\")  \n",
    "print(f\"Area of circle: {circle.area()}\")  "
   ]
  },
  {
   "cell_type": "markdown",
   "metadata": {},
   "source": [
    "# Using super keyword"
   ]
  },
  {
   "cell_type": "code",
   "execution_count": 18,
   "metadata": {},
   "outputs": [
    {
     "name": "stdout",
     "output_type": "stream",
     "text": [
      "I am a RedSquare.\n",
      "I am also colored.\n",
      "I am a red square.\n"
     ]
    }
   ],
   "source": [
    "class Shape:\n",
    "  def info(self):\n",
    "    print(f\"I am a {type(self).__name__}.\")\n",
    "class ColoredShape(Shape):\n",
    "  def __init__(self):\n",
    "    pass  \n",
    "  def info(self):\n",
    "    super().info()\n",
    "    print(f\"I am also colored.\")\n",
    "class RedSquare(ColoredShape):\n",
    "  def info(self):\n",
    "    super().info()\n",
    "    print(f\"I am a red square.\")\n",
    "red_square=RedSquare()\n",
    "red_square.info()  "
   ]
  },
  {
   "cell_type": "markdown",
   "metadata": {},
   "source": [
    "# super with __init__ method"
   ]
  },
  {
   "cell_type": "code",
   "execution_count": 19,
   "metadata": {},
   "outputs": [
    {
     "name": "stdout",
     "output_type": "stream",
     "text": [
      "The ID is: 103\n",
      "The Name is: Suraj kr gupta\n",
      "The Address is: Noida\n",
      "The Emails is: SKG@gmails\n"
     ]
    }
   ],
   "source": [
    "class Emp():\n",
    "    def __init__(self,id,name,Add):\n",
    "        self.id=id\n",
    "        self.name=name\n",
    "        self.Add=Add\n",
    "class Freelance(Emp):\n",
    "    def __init__(self,id,name,Add,Emails):\n",
    "        super().__init__(id,name,Add)\n",
    "        self.Emails=Emails\n",
    "Emp_1=Freelance(103,\"Suraj kr gupta\",\"Noida\" ,\"SKG@gmails\")\n",
    "print('The ID is:',Emp_1.id)\n",
    "print('The Name is:',Emp_1.name)\n",
    "print('The Address is:',Emp_1.Add)\n",
    "print('The Emails is:',Emp_1.Emails)"
   ]
  },
  {
   "cell_type": "markdown",
   "metadata": {},
   "source": [
    "# super with __str__ method"
   ]
  },
  {
   "cell_type": "code",
   "execution_count": 20,
   "metadata": {},
   "outputs": [
    {
     "name": "stdout",
     "output_type": "stream",
     "text": [
      "I am a dog of breed Labrador\n"
     ]
    }
   ],
   "source": [
    "class Animal:\n",
    "    def __init__(self,species):\n",
    "        self.species =species\n",
    "    def __str__(self):\n",
    "        return f\"I am a {self.species}\"\n",
    "class Dog(Animal):\n",
    "    def __init__(self,breed):\n",
    "        super().__init__(\"dog\")\n",
    "        self.breed=breed\n",
    "    def __str__(self):\n",
    "        return super().__str__() + f\" of breed {self.breed}\"\n",
    "my_dog=Dog(\"Labrador\")\n",
    "print(my_dog)"
   ]
  }
 ],
 "metadata": {
  "kernelspec": {
   "display_name": "Python 3",
   "language": "python",
   "name": "python3"
  },
  "language_info": {
   "codemirror_mode": {
    "name": "ipython",
    "version": 3
   },
   "file_extension": ".py",
   "mimetype": "text/x-python",
   "name": "python",
   "nbconvert_exporter": "python",
   "pygments_lexer": "ipython3",
   "version": "3.10.11"
  }
 },
 "nbformat": 4,
 "nbformat_minor": 2
}
