{
 "cells": [
  {
   "cell_type": "markdown",
   "metadata": {},
   "source": [
    "Basic exception handling:"
   ]
  },
  {
   "cell_type": "code",
   "execution_count": 2,
   "metadata": {},
   "outputs": [
    {
     "name": "stdout",
     "output_type": "stream",
     "text": [
      "Error: Cannot divide by zero!\n"
     ]
    }
   ],
   "source": [
    "try:\n",
    "    x=10\n",
    "    y=0\n",
    "    result=x/y\n",
    "    print(result)\n",
    "except ZeroDivisionError:\n",
    "    print(\"Error: Cannot divide by zero!\")"
   ]
  },
  {
   "cell_type": "markdown",
   "metadata": {},
   "source": [
    "Handling multiple exception"
   ]
  },
  {
   "cell_type": "code",
   "execution_count": 3,
   "metadata": {},
   "outputs": [
    {
     "name": "stdout",
     "output_type": "stream",
     "text": [
      "Error: Cannot divide by zero!\n"
     ]
    }
   ],
   "source": [
    "try:\n",
    "    x=10\n",
    "    y=0\n",
    "    result=x/y\n",
    "    print(result)\n",
    "except ZeroDivisionError:\n",
    "    print(\"Error: Cannot divide by zero!\")\n",
    "except ValueError:\n",
    "    print(\"Error: Invalid value!\")"
   ]
  },
  {
   "cell_type": "markdown",
   "metadata": {},
   "source": [
    "using else finally block"
   ]
  },
  {
   "cell_type": "code",
   "execution_count": 5,
   "metadata": {},
   "outputs": [
    {
     "name": "stdout",
     "output_type": "stream",
     "text": [
      "fjvqenjverf\n",
      "fvjaefn\n",
      "vkef;e'n\n",
      "vn\n",
      "v;kv\n",
      "\n",
      "vlad\n",
      "v\n",
      "File read successfully.\n",
      "File closed.\n"
     ]
    }
   ],
   "source": [
    "try:\n",
    "    file=open(\"example.txt\", \"r\")\n",
    "    content=file.read()\n",
    "    print(content)\n",
    "except FileNotFoundError:\n",
    "    print(\"Error: File not found.\")\n",
    "except IOError:\n",
    "    print(\"Error: An I/O error occurred.\")\n",
    "else:\n",
    "    print(\"File read successfully.\")\n",
    "finally:\n",
    "    file.close()\n",
    "    print(\"File closed.\")"
   ]
  },
  {
   "cell_type": "markdown",
   "metadata": {},
   "source": [
    "common built in exception"
   ]
  },
  {
   "cell_type": "code",
   "execution_count": 6,
   "metadata": {},
   "outputs": [],
   "source": [
    "try:\n",
    "    if x==5:\n",
    "        print(\"x is equal to 5\")\n",
    "except SyntaxError:\n",
    "    print(\"SyntaxError occurred\")"
   ]
  },
  {
   "cell_type": "markdown",
   "metadata": {},
   "source": [
    "indentation error"
   ]
  },
  {
   "cell_type": "code",
   "execution_count": 7,
   "metadata": {},
   "outputs": [],
   "source": [
    "try:\n",
    "    def my_function():\n",
    "        print(\"Inside function\")\n",
    "        print(\"This line is incorrectly indented\")\n",
    "except IndentationError:\n",
    "    print(\"IndentationError occurred\")"
   ]
  },
  {
   "cell_type": "markdown",
   "metadata": {},
   "source": [
    "name error"
   ]
  },
  {
   "cell_type": "code",
   "execution_count": 8,
   "metadata": {},
   "outputs": [
    {
     "name": "stdout",
     "output_type": "stream",
     "text": [
      "10\n"
     ]
    }
   ],
   "source": [
    "try:\n",
    "    print(x)\n",
    "except NameError:\n",
    "    print(\"NameError occurred\")"
   ]
  },
  {
   "cell_type": "markdown",
   "metadata": {},
   "source": [
    "type error"
   ]
  },
  {
   "cell_type": "code",
   "execution_count": 9,
   "metadata": {},
   "outputs": [
    {
     "name": "stdout",
     "output_type": "stream",
     "text": [
      "TypeError occurred\n"
     ]
    }
   ],
   "source": [
    "try:\n",
    "    x=\"hello\"\n",
    "    y=5\n",
    "    print(x+y)\n",
    "except TypeError:\n",
    "    print(\"TypeError occurred\")"
   ]
  },
  {
   "cell_type": "markdown",
   "metadata": {},
   "source": [
    "value error"
   ]
  },
  {
   "cell_type": "code",
   "execution_count": 10,
   "metadata": {},
   "outputs": [
    {
     "name": "stdout",
     "output_type": "stream",
     "text": [
      "ValueError occurred\n"
     ]
    }
   ],
   "source": [
    "try:\n",
    "    int(\"hello\")\n",
    "except ValueError:\n",
    "    print(\"ValueError occurred\")"
   ]
  },
  {
   "cell_type": "markdown",
   "metadata": {},
   "source": [
    "zero division error"
   ]
  },
  {
   "cell_type": "code",
   "execution_count": 11,
   "metadata": {},
   "outputs": [
    {
     "name": "stdout",
     "output_type": "stream",
     "text": [
      "ZeroDivisionError occurred\n"
     ]
    }
   ],
   "source": [
    "\n",
    "try:\n",
    "    x=10\n",
    "    y=0\n",
    "    result=x/y\n",
    "except ZeroDivisionError:\n",
    "    print(\"ZeroDivisionError occurred\")"
   ]
  },
  {
   "cell_type": "markdown",
   "metadata": {},
   "source": [
    "custom exception"
   ]
  },
  {
   "cell_type": "code",
   "execution_count": 12,
   "metadata": {},
   "outputs": [
    {
     "name": "stdout",
     "output_type": "stream",
     "text": [
      "Invalid age provided\n"
     ]
    }
   ],
   "source": [
    "class InvalidAgeError(Exception):\n",
    "    \"\"\"Raised when the input age is invalid\"\"\"\n",
    "    pass\n",
    "def validate_age(age):\n",
    "    if age<0:\n",
    "        raise InvalidAgeError(\"Age cannot be negative\")\n",
    "    elif age>120:\n",
    "        raise InvalidAgeError(\"Age cannot be greater than 120\")\n",
    "    else:\n",
    "        print(\"Valid age\")\n",
    "try:\n",
    "    validate_age(-5)\n",
    "except InvalidAgeError:\n",
    "    print(\"Invalid age provided\")"
   ]
  },
  {
   "cell_type": "markdown",
   "metadata": {},
   "source": [
    "Using except with specific exception"
   ]
  },
  {
   "cell_type": "code",
   "execution_count": 13,
   "metadata": {},
   "outputs": [
    {
     "name": "stdout",
     "output_type": "stream",
     "text": [
      "Can't divide by zero!\n"
     ]
    }
   ],
   "source": [
    "try:\n",
    "    x=10/0\n",
    "except ZeroDivisionError:\n",
    "    print(\"Can't divide by zero!\")"
   ]
  },
  {
   "cell_type": "markdown",
   "metadata": {},
   "source": [
    "handling multiple except exception"
   ]
  },
  {
   "cell_type": "code",
   "execution_count": 15,
   "metadata": {},
   "outputs": [
    {
     "name": "stdout",
     "output_type": "stream",
     "text": [
      "Result: 5.0\n"
     ]
    }
   ],
   "source": [
    "try:\n",
    "    x=int(input(\"Enter a number: \"))\n",
    "    y=10/x\n",
    "except ValueError:\n",
    "    print(\"Invalid input! Please enter a number.\")\n",
    "except ZeroDivisionError:\n",
    "    print(\"Can't divide by zero!\")\n",
    "else:\n",
    "    print(f\"Result: {y}\")"
   ]
  },
  {
   "cell_type": "markdown",
   "metadata": {},
   "source": [
    "get exception details"
   ]
  },
  {
   "cell_type": "code",
   "execution_count": 16,
   "metadata": {},
   "outputs": [
    {
     "name": "stdout",
     "output_type": "stream",
     "text": [
      "Error: division by zero\n",
      "Type: <class 'ZeroDivisionError'>\n",
      "Details: ('division by zero',)\n"
     ]
    }
   ],
   "source": [
    "try:\n",
    "    result=10/0\n",
    "except ZeroDivisionError as e:\n",
    "    print(\"Error:\",e)\n",
    "    print(\"Type:\",type(e))\n",
    "    print(\"Details:\",e.args)"
   ]
  },
  {
   "cell_type": "markdown",
   "metadata": {},
   "source": [
    "Raising Exceptions"
   ]
  },
  {
   "cell_type": "code",
   "execution_count": 17,
   "metadata": {},
   "outputs": [
    {
     "name": "stdout",
     "output_type": "stream",
     "text": [
      "Error: Cannot divide by zero\n"
     ]
    }
   ],
   "source": [
    "def divide_numbers(x,y):\n",
    "    if y==0:\n",
    "        raise ValueError(\"Cannot divide by zero\")\n",
    "    return x/y\n",
    "try:\n",
    "    result=divide_numbers(10, 0)\n",
    "except ValueError as e:\n",
    "    print(\"Error:\",e)"
   ]
  },
  {
   "cell_type": "code",
   "execution_count": 19,
   "metadata": {},
   "outputs": [
    {
     "name": "stdout",
     "output_type": "stream",
     "text": [
      "Custom error occurred: Value cannot be negative\n"
     ]
    }
   ],
   "source": [
    "class CustomError(Exception):\n",
    "    pass\n",
    "def check_value(x):\n",
    "    if x<0:\n",
    "        raise CustomError(\"Value cannot be negative\")\n",
    "try:\n",
    "    check_value(-5)\n",
    "except CustomError as e:\n",
    "    print(\"Custom error occurred:\", e)"
   ]
  },
  {
   "cell_type": "markdown",
   "metadata": {},
   "source": [
    "Handling Exceptions at Different Levels"
   ]
  },
  {
   "cell_type": "markdown",
   "metadata": {},
   "source": [
    "local level"
   ]
  },
  {
   "cell_type": "code",
   "execution_count": 20,
   "metadata": {},
   "outputs": [
    {
     "name": "stdout",
     "output_type": "stream",
     "text": [
      "Cannot divide by zero\n"
     ]
    }
   ],
   "source": [
    "def divide(x,y):\n",
    "    try:\n",
    "        result=x/y\n",
    "        print(\"Result:\",result)\n",
    "    except ZeroDivisionError:\n",
    "        print(\"Cannot divide by zero\")\n",
    "divide(10,0)"
   ]
  },
  {
   "cell_type": "markdown",
   "metadata": {},
   "source": [
    "Intermediate level"
   ]
  },
  {
   "cell_type": "code",
   "execution_count": 22,
   "metadata": {},
   "outputs": [
    {
     "name": "stdout",
     "output_type": "stream",
     "text": [
      "Error: Invalid data\n"
     ]
    }
   ],
   "source": [
    "def process_data(data):\n",
    "    try:\n",
    "        result=10/data\n",
    "    except ZeroDivisionError:\n",
    "        raise ValueError(\"Invalid data\") from None\n",
    "try:\n",
    "    process_data(0)\n",
    "except ValueError as e:\n",
    "    print(\"Error:\", e)"
   ]
  },
  {
   "cell_type": "markdown",
   "metadata": {},
   "source": [
    "global level"
   ]
  },
  {
   "cell_type": "code",
   "execution_count": 23,
   "metadata": {},
   "outputs": [
    {
     "name": "stdout",
     "output_type": "stream",
     "text": [
      "An error occurred: Cannot divide by zero\n"
     ]
    }
   ],
   "source": [
    "def main():\n",
    "    try:\n",
    "        result=10/0\n",
    "    except ZeroDivisionError:\n",
    "        print(\"An error occurred: Cannot divide by zero\")\n",
    "if __name__==\"__main__\":\n",
    "    main()"
   ]
  },
  {
   "cell_type": "code",
   "execution_count": 24,
   "metadata": {},
   "outputs": [
    {
     "name": "stdout",
     "output_type": "stream",
     "text": [
      "Error: Cannot divide by zero\n"
     ]
    }
   ],
   "source": [
    "\n",
    "#Code:\n",
    "def divide(x, y):\n",
    "    if y==0:\n",
    "        raise ValueError(\"Cannot divide by zero\")\n",
    "    return x/y\n",
    "try:\n",
    "    result=divide(10,0)\n",
    "except ValueError as e:\n",
    "    print(\"Error:\",e) "
   ]
  },
  {
   "cell_type": "markdown",
   "metadata": {},
   "source": [
    "finally for cleanup operations"
   ]
  },
  {
   "cell_type": "code",
   "execution_count": 26,
   "metadata": {},
   "outputs": [
    {
     "name": "stdout",
     "output_type": "stream",
     "text": [
      "Division operation complete\n",
      "Result 1: 5.0\n",
      "Cannot divide by zero\n",
      "Division operation complete\n",
      "Result 2: None\n"
     ]
    }
   ],
   "source": [
    "def divide(x,y):\n",
    "    try:\n",
    "        result=x/y\n",
    "    except ZeroDivisionError:\n",
    "        print(\"Cannot divide by zero\")\n",
    "        result=None\n",
    "    finally:\n",
    "        print(\"Division operation complete\")\n",
    "    return result\n",
    "result1=divide(10,2)\n",
    "print(\"Result 1:\",result1)\n",
    "result2=divide(10,0)\n",
    "print(\"Result 2:\",result2)"
   ]
  },
  {
   "cell_type": "markdown",
   "metadata": {},
   "source": [
    "# Questions:"
   ]
  },
  {
   "cell_type": "markdown",
   "metadata": {},
   "source": [
    "Write a function that takes two numbers as input and divides the first number by the second number. Raise a ZeroDivisionError if the second number is zero."
   ]
  },
  {
   "cell_type": "code",
   "execution_count": 27,
   "metadata": {},
   "outputs": [
    {
     "name": "stdout",
     "output_type": "stream",
     "text": [
      "5.0\n",
      "Error: Division by zero is not allowed\n"
     ]
    }
   ],
   "source": [
    "\n",
    "\n",
    "def divide_numbers(num1,num2):\n",
    "    if num2==0:\n",
    "        raise ZeroDivisionError(\"Cannot divide by zero\")\n",
    "    else:\n",
    "        result=num1/num2\n",
    "        return result\n",
    "try:\n",
    "    print(divide_numbers(10,2))\n",
    "    print(divide_numbers(5,0))\n",
    "except ZeroDivisionError:\n",
    "    print(\"Error: Division by zero is not allowed\")"
   ]
  },
  {
   "cell_type": "markdown",
   "metadata": {},
   "source": [
    "Create a function that checks if a given string is a palindrome. Raise a custom PalindromeError if the input is not a valid string."
   ]
  },
  {
   "cell_type": "code",
   "execution_count": 28,
   "metadata": {},
   "outputs": [
    {
     "name": "stdout",
     "output_type": "stream",
     "text": [
      "True\n",
      "True\n",
      "Input must be a string\n"
     ]
    }
   ],
   "source": [
    "class PalindromeError(Exception):\n",
    "    pass\n",
    "def is_palindrome(input_str):\n",
    "    if not isinstance(input_str,str):\n",
    "        raise PalindromeError(\"Input must be a string\")\n",
    "    clean_str = input_str.replace(\" \", \"\").lower()\n",
    "    if clean_str==clean_str[::-1]:\n",
    "        return True\n",
    "    else:\n",
    "        return False\n",
    "try:\n",
    "    print(is_palindrome(\"racecar\"))\n",
    "    print(is_palindrome(\"A man a plan a canal Panama\"))\n",
    "    print(is_palindrome(123))\n",
    "except PalindromeError as e:\n",
    "    print(e)"
   ]
  },
  {
   "cell_type": "markdown",
   "metadata": {},
   "source": [
    "Write a Python script that iterates through a list of integers and attempts to divide each integer by zero. Handle the ZeroDivisionError exception within a try-except block, and use a finally block to print a message indicating the end of the iteration process."
   ]
  },
  {
   "cell_type": "code",
   "execution_count": 29,
   "metadata": {},
   "outputs": [
    {
     "name": "stdout",
     "output_type": "stream",
     "text": [
      "Error: Cannot divide 10 by zero\n",
      "Iteration completed\n",
      "Error: Cannot divide 0 by zero\n",
      "Iteration completed\n",
      "Error: Cannot divide 5 by zero\n",
      "Iteration completed\n",
      "Error: Cannot divide 20 by zero\n",
      "Iteration completed\n",
      "Error: Cannot divide 3 by zero\n",
      "Iteration completed\n",
      "End\n"
     ]
    }
   ],
   "source": [
    "numbers = [10,0,5,20,3]\n",
    "for num in numbers:\n",
    "    try:\n",
    "        result=num / 0\n",
    "        print(f\"{num} / 0 = {result}\")\n",
    "    except ZeroDivisionError:\n",
    "        print(f\"Error: Cannot divide {num} by zero\")\n",
    "    finally:\n",
    "        print(\"Iteration completed\")\n",
    "print(\"End\")"
   ]
  },
  {
   "cell_type": "markdown",
   "metadata": {},
   "source": [
    "Write a Python function that attempts to divide two numbers and handles the ZeroDivisionError exception. Include a finally block to print a message indicating the end of the division operation."
   ]
  },
  {
   "cell_type": "code",
   "execution_count": 30,
   "metadata": {},
   "outputs": [
    {
     "name": "stdout",
     "output_type": "stream",
     "text": [
      "10 / 2 = 5.0\n",
      "Division operation completed\n",
      "Error: Cannot divide 5 by zero\n",
      "Division operation completed\n"
     ]
    }
   ],
   "source": [
    "def divide_numbers(num1,num2):\n",
    "    try:\n",
    "        result=num1/num2\n",
    "        print(f\"{num1} / {num2} = {result}\")\n",
    "    except ZeroDivisionError:\n",
    "        print(f\"Error: Cannot divide {num1} by zero\")\n",
    "    finally:\n",
    "        print(\"Division operation completed\")\n",
    "divide_numbers(10,2)\n",
    "divide_numbers(5,0)"
   ]
  },
  {
   "cell_type": "markdown",
   "metadata": {},
   "source": [
    "Create a Python program that converts a string to an integer. Handle the ValueError exception if the string cannot be converted to an integer, and print a message indicating the error."
   ]
  },
  {
   "cell_type": "code",
   "execution_count": 31,
   "metadata": {},
   "outputs": [
    {
     "name": "stdout",
     "output_type": "stream",
     "text": [
      "Integer value: 5\n"
     ]
    }
   ],
   "source": [
    "try:\n",
    "    num_str=input(\"Enter a number: \")\n",
    "    num=int(num_str)\n",
    "    print(\"Integer value:\",num)\n",
    "except ValueError:\n",
    "    print(\"Error: Could not convert '{}' to an integer.\".format(num_str))"
   ]
  },
  {
   "cell_type": "markdown",
   "metadata": {},
   "source": [
    "Write a Python function that takes a number as input and returns its square root. Handle the case where the input is a negative number by raising a custom exception called NegativeNumberError."
   ]
  },
  {
   "cell_type": "code",
   "execution_count": 32,
   "metadata": {},
   "outputs": [
    {
     "name": "stdout",
     "output_type": "stream",
     "text": [
      "5.0\n",
      "Cannot calculate square root of a negative number\n"
     ]
    }
   ],
   "source": [
    "\n",
    "import math\n",
    "class NegativeNumberError(Exception):\n",
    "    pass\n",
    "def sqrt(num):\n",
    "    if num<0:\n",
    "        raise NegativeNumberError(\"Cannot calculate square root of a negative number\")\n",
    "    return math.sqrt(num)\n",
    "try:\n",
    "    print(sqrt(25))\n",
    "    print(sqrt(-4))\n",
    "except NegativeNumberError as e:\n",
    "    print(e)"
   ]
  }
 ],
 "metadata": {
  "kernelspec": {
   "display_name": "Python 3",
   "language": "python",
   "name": "python3"
  },
  "language_info": {
   "codemirror_mode": {
    "name": "ipython",
    "version": 3
   },
   "file_extension": ".py",
   "mimetype": "text/x-python",
   "name": "python",
   "nbconvert_exporter": "python",
   "pygments_lexer": "ipython3",
   "version": "3.10.11"
  }
 },
 "nbformat": 4,
 "nbformat_minor": 2
}
