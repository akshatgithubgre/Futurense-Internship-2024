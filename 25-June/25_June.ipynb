{
  "nbformat": 4,
  "nbformat_minor": 0,
  "metadata": {
    "colab": {
      "provenance": []
    },
    "kernelspec": {
      "name": "python3",
      "display_name": "Python 3"
    },
    "language_info": {
      "name": "python"
    }
  },
  "cells": [
    {
      "cell_type": "code",
      "execution_count": 1,
      "metadata": {
        "colab": {
          "base_uri": "https://localhost:8080/"
        },
        "id": "KngNsZIUNnZ5",
        "outputId": "7805188c-b538-42f6-a55d-7989df685976"
      },
      "outputs": [
        {
          "output_type": "stream",
          "name": "stdout",
          "text": [
            "Requirement already satisfied: numpy in /usr/local/lib/python3.10/dist-packages (1.25.2)\n"
          ]
        }
      ],
      "source": [
        "pip install numpy"
      ]
    },
    {
      "cell_type": "code",
      "source": [
        "import numpy as np\n",
        "print(np.__version__)"
      ],
      "metadata": {
        "colab": {
          "base_uri": "https://localhost:8080/"
        },
        "id": "Ja7dFA1rNrmR",
        "outputId": "d6549587-7396-4e79-edd5-8001afb01ba0"
      },
      "execution_count": 2,
      "outputs": [
        {
          "output_type": "stream",
          "name": "stdout",
          "text": [
            "1.25.2\n"
          ]
        }
      ]
    },
    {
      "cell_type": "code",
      "source": [
        "a=np.array([1,2,3,4,5])\n",
        "print(a.shape)"
      ],
      "metadata": {
        "colab": {
          "base_uri": "https://localhost:8080/"
        },
        "id": "qQDaIRj2NspN",
        "outputId": "1e1fa83a-3b77-4705-e345-3a9c23148ab1"
      },
      "execution_count": 3,
      "outputs": [
        {
          "output_type": "stream",
          "name": "stdout",
          "text": [
            "(5,)\n"
          ]
        }
      ]
    },
    {
      "cell_type": "code",
      "source": [
        "b=np.array([[1,2,3],[4,5,6]])\n",
        "print(b.shape)"
      ],
      "metadata": {
        "colab": {
          "base_uri": "https://localhost:8080/"
        },
        "id": "DFpPGtPpNvIk",
        "outputId": "b9be1433-8ebe-4858-da9d-b4f63f1223f9"
      },
      "execution_count": 4,
      "outputs": [
        {
          "output_type": "stream",
          "name": "stdout",
          "text": [
            "(2, 3)\n"
          ]
        }
      ]
    },
    {
      "cell_type": "code",
      "source": [
        "c=np.array([[[1,2],[3,4]],[[5,6],[7,8]]])\n",
        "print(c.shape)"
      ],
      "metadata": {
        "colab": {
          "base_uri": "https://localhost:8080/"
        },
        "id": "3hPCVTboNwnJ",
        "outputId": "36b85ec0-77fe-4975-8d4b-2ecd118797b6"
      },
      "execution_count": 5,
      "outputs": [
        {
          "output_type": "stream",
          "name": "stdout",
          "text": [
            "(2, 2, 2)\n"
          ]
        }
      ]
    },
    {
      "cell_type": "code",
      "source": [
        "a=np.array([1,2,3,4,5])\n",
        "print(a.size)"
      ],
      "metadata": {
        "colab": {
          "base_uri": "https://localhost:8080/"
        },
        "id": "gQ_qF-NZNyTv",
        "outputId": "bb5d1854-ab30-4723-a943-f9e8de2647f8"
      },
      "execution_count": 6,
      "outputs": [
        {
          "output_type": "stream",
          "name": "stdout",
          "text": [
            "5\n"
          ]
        }
      ]
    },
    {
      "cell_type": "code",
      "source": [
        "a=np.array([1,2,3,4,5])\n",
        "print(a.dtype)"
      ],
      "metadata": {
        "colab": {
          "base_uri": "https://localhost:8080/"
        },
        "id": "RtDI1cOqNzav",
        "outputId": "5d4f3474-97c7-43c4-c8ce-60ebc2bbb48f"
      },
      "execution_count": 7,
      "outputs": [
        {
          "output_type": "stream",
          "name": "stdout",
          "text": [
            "int64\n"
          ]
        }
      ]
    },
    {
      "cell_type": "code",
      "source": [
        "b=np.array([1.0,2.0,3.0])\n",
        "print(b.dtype)"
      ],
      "metadata": {
        "colab": {
          "base_uri": "https://localhost:8080/"
        },
        "id": "bitmMCGAN0_d",
        "outputId": "0b46ac06-fa58-4af6-e54f-f4d16911f575"
      },
      "execution_count": 8,
      "outputs": [
        {
          "output_type": "stream",
          "name": "stdout",
          "text": [
            "float64\n"
          ]
        }
      ]
    },
    {
      "cell_type": "code",
      "source": [
        "c=np.array([1+2j,3+4j])\n",
        "print(c.dtype)"
      ],
      "metadata": {
        "colab": {
          "base_uri": "https://localhost:8080/"
        },
        "id": "mSnyc50mN3jj",
        "outputId": "208597ab-e1ac-46d0-f9f1-34b2aa5a7a03"
      },
      "execution_count": 9,
      "outputs": [
        {
          "output_type": "stream",
          "name": "stdout",
          "text": [
            "complex128\n"
          ]
        }
      ]
    },
    {
      "cell_type": "code",
      "source": [
        "d=np.array([True,False,True])\n",
        "print(d.dtype)"
      ],
      "metadata": {
        "colab": {
          "base_uri": "https://localhost:8080/"
        },
        "id": "9pD9ifNkN45H",
        "outputId": "7f3ba21b-77cd-4606-b12a-e0c1d5268a31"
      },
      "execution_count": 10,
      "outputs": [
        {
          "output_type": "stream",
          "name": "stdout",
          "text": [
            "bool\n"
          ]
        }
      ]
    },
    {
      "cell_type": "code",
      "source": [
        "a=np.array([1,2,3],dtype=np.float32)\n",
        "print(a)\n",
        "print(a.dtype)"
      ],
      "metadata": {
        "colab": {
          "base_uri": "https://localhost:8080/"
        },
        "id": "deH1XYMTN58G",
        "outputId": "a3887181-63eb-494b-d57b-750193c87b42"
      },
      "execution_count": 11,
      "outputs": [
        {
          "output_type": "stream",
          "name": "stdout",
          "text": [
            "[1. 2. 3.]\n",
            "float32\n"
          ]
        }
      ]
    },
    {
      "cell_type": "code",
      "source": [
        "b=np.array([1,2,3],dtype=np.int16)\n",
        "print(b)\n",
        "print(b.dtype)"
      ],
      "metadata": {
        "colab": {
          "base_uri": "https://localhost:8080/"
        },
        "id": "4uqA91TLN7dt",
        "outputId": "9bbcd9a2-7aa7-45e7-8a25-81c74b3ff771"
      },
      "execution_count": 12,
      "outputs": [
        {
          "output_type": "stream",
          "name": "stdout",
          "text": [
            "[1 2 3]\n",
            "int16\n"
          ]
        }
      ]
    },
    {
      "cell_type": "code",
      "source": [
        "a=np.array([1,2,3,4,5])\n",
        "print(a)"
      ],
      "metadata": {
        "colab": {
          "base_uri": "https://localhost:8080/"
        },
        "id": "v39MTJ-hN8f9",
        "outputId": "75dc14e2-e3f7-41b4-9825-ba7618ea37af"
      },
      "execution_count": 13,
      "outputs": [
        {
          "output_type": "stream",
          "name": "stdout",
          "text": [
            "[1 2 3 4 5]\n"
          ]
        }
      ]
    },
    {
      "cell_type": "code",
      "source": [
        "b=np.array((10,20,30))\n",
        "print(b)"
      ],
      "metadata": {
        "colab": {
          "base_uri": "https://localhost:8080/"
        },
        "id": "gD8_oSUuN9qY",
        "outputId": "3ed29e2e-da01-465a-cc48-0909b9058552"
      },
      "execution_count": 14,
      "outputs": [
        {
          "output_type": "stream",
          "name": "stdout",
          "text": [
            "[10 20 30]\n"
          ]
        }
      ]
    },
    {
      "cell_type": "code",
      "source": [
        "c=[1,2,3,4,5]\n",
        "a=np.asarray(c)\n",
        "print(a)"
      ],
      "metadata": {
        "colab": {
          "base_uri": "https://localhost:8080/"
        },
        "id": "CCOZkqisN-xQ",
        "outputId": "af7b88a7-488e-4e7d-a3dd-813837fd2129"
      },
      "execution_count": 15,
      "outputs": [
        {
          "output_type": "stream",
          "name": "stdout",
          "text": [
            "[1 2 3 4 5]\n"
          ]
        }
      ]
    },
    {
      "cell_type": "code",
      "source": [
        "d=(10,20,30)\n",
        "b=np.asarray(d)\n",
        "print(b)"
      ],
      "metadata": {
        "colab": {
          "base_uri": "https://localhost:8080/"
        },
        "id": "ikctUFIZOAEL",
        "outputId": "72acdc5a-a7bd-4c06-ccc0-2084b2961a04"
      },
      "execution_count": 16,
      "outputs": [
        {
          "output_type": "stream",
          "name": "stdout",
          "text": [
            "[10 20 30]\n"
          ]
        }
      ]
    },
    {
      "cell_type": "code",
      "source": [
        "a=np.ones(5)\n",
        "print(a)"
      ],
      "metadata": {
        "colab": {
          "base_uri": "https://localhost:8080/"
        },
        "id": "Ry1S4MdCOBCG",
        "outputId": "a33a6578-4c09-4c9b-8e35-436592313298"
      },
      "execution_count": 17,
      "outputs": [
        {
          "output_type": "stream",
          "name": "stdout",
          "text": [
            "[1. 1. 1. 1. 1.]\n"
          ]
        }
      ]
    },
    {
      "cell_type": "code",
      "source": [
        "b=np.ones((3,4))\n",
        "print(b)"
      ],
      "metadata": {
        "colab": {
          "base_uri": "https://localhost:8080/"
        },
        "id": "gwuJJvbMOCB1",
        "outputId": "f93431cc-c9c2-4435-855d-bd7ac124ed36"
      },
      "execution_count": 18,
      "outputs": [
        {
          "output_type": "stream",
          "name": "stdout",
          "text": [
            "[[1. 1. 1. 1.]\n",
            " [1. 1. 1. 1.]\n",
            " [1. 1. 1. 1.]]\n"
          ]
        }
      ]
    },
    {
      "cell_type": "code",
      "source": [
        "a=np.zeros(5)\n",
        "print(a)"
      ],
      "metadata": {
        "colab": {
          "base_uri": "https://localhost:8080/"
        },
        "id": "uWqIvqcXODBb",
        "outputId": "1b13fa34-e89f-4de0-948e-412bd328e7cb"
      },
      "execution_count": 19,
      "outputs": [
        {
          "output_type": "stream",
          "name": "stdout",
          "text": [
            "[0. 0. 0. 0. 0.]\n"
          ]
        }
      ]
    },
    {
      "cell_type": "code",
      "source": [
        "b=np.zeros((2,3))\n",
        "print(b)"
      ],
      "metadata": {
        "colab": {
          "base_uri": "https://localhost:8080/"
        },
        "id": "qL3WaLhaOEc0",
        "outputId": "6d150a68-1313-4038-dad5-021725280f21"
      },
      "execution_count": 20,
      "outputs": [
        {
          "output_type": "stream",
          "name": "stdout",
          "text": [
            "[[0. 0. 0.]\n",
            " [0. 0. 0.]]\n"
          ]
        }
      ]
    },
    {
      "cell_type": "code",
      "source": [
        "a=np.empty(5)\n",
        "print(a)"
      ],
      "metadata": {
        "colab": {
          "base_uri": "https://localhost:8080/"
        },
        "id": "OZPbyOuvOFZw",
        "outputId": "7ff0032a-734c-49d3-d85c-70641270e55c"
      },
      "execution_count": 21,
      "outputs": [
        {
          "output_type": "stream",
          "name": "stdout",
          "text": [
            "[1. 1. 1. 1. 1.]\n"
          ]
        }
      ]
    },
    {
      "cell_type": "code",
      "source": [
        "b=np.empty((2,3))\n",
        "print(b)"
      ],
      "metadata": {
        "colab": {
          "base_uri": "https://localhost:8080/"
        },
        "id": "v3ntCrekOGVR",
        "outputId": "3ae9a4a0-3979-4b8f-af4f-851b2dbcdb23"
      },
      "execution_count": 22,
      "outputs": [
        {
          "output_type": "stream",
          "name": "stdout",
          "text": [
            "[[0. 0. 0.]\n",
            " [0. 0. 0.]]\n"
          ]
        }
      ]
    },
    {
      "cell_type": "code",
      "source": [
        "a=np.arange(10)\n",
        "print(a)"
      ],
      "metadata": {
        "colab": {
          "base_uri": "https://localhost:8080/"
        },
        "id": "AwJ07XTdOHz2",
        "outputId": "c2e32068-f7cf-48b8-8a3f-9593a42757c8"
      },
      "execution_count": 23,
      "outputs": [
        {
          "output_type": "stream",
          "name": "stdout",
          "text": [
            "[0 1 2 3 4 5 6 7 8 9]\n"
          ]
        }
      ]
    },
    {
      "cell_type": "code",
      "source": [
        "b=np.arange(2,11,2)\n",
        "print(b)"
      ],
      "metadata": {
        "colab": {
          "base_uri": "https://localhost:8080/"
        },
        "id": "vKl1GmwrOJEO",
        "outputId": "4eddc63b-9e92-4496-ff3e-958e5e778f15"
      },
      "execution_count": 24,
      "outputs": [
        {
          "output_type": "stream",
          "name": "stdout",
          "text": [
            "[ 2  4  6  8 10]\n"
          ]
        }
      ]
    },
    {
      "cell_type": "code",
      "source": [
        "a=np.linspace(0,1,5)\n",
        "print(a)"
      ],
      "metadata": {
        "colab": {
          "base_uri": "https://localhost:8080/"
        },
        "id": "W1LDSCz8OKOz",
        "outputId": "6873e0c8-460d-491d-92b5-e0fc5dc8c5f3"
      },
      "execution_count": 25,
      "outputs": [
        {
          "output_type": "stream",
          "name": "stdout",
          "text": [
            "[0.   0.25 0.5  0.75 1.  ]\n"
          ]
        }
      ]
    },
    {
      "cell_type": "code",
      "source": [
        "b=np.linspace(0,10,9)\n",
        "print(b)"
      ],
      "metadata": {
        "colab": {
          "base_uri": "https://localhost:8080/"
        },
        "id": "HzFxmHLaOLan",
        "outputId": "4c2900d6-de7e-4424-ebe8-58dca1055c7b"
      },
      "execution_count": 26,
      "outputs": [
        {
          "output_type": "stream",
          "name": "stdout",
          "text": [
            "[ 0.    1.25  2.5   3.75  5.    6.25  7.5   8.75 10.  ]\n"
          ]
        }
      ]
    },
    {
      "cell_type": "code",
      "source": [
        "a=np.eye(2)\n",
        "print(a)"
      ],
      "metadata": {
        "colab": {
          "base_uri": "https://localhost:8080/"
        },
        "id": "MiPRWfFJOMRQ",
        "outputId": "0934aeae-a43a-4c00-86ab-9c74b1c060a9"
      },
      "execution_count": 27,
      "outputs": [
        {
          "output_type": "stream",
          "name": "stdout",
          "text": [
            "[[1. 0.]\n",
            " [0. 1.]]\n"
          ]
        }
      ]
    },
    {
      "cell_type": "code",
      "source": [
        "a=np.eye(3)\n",
        "print(a)"
      ],
      "metadata": {
        "colab": {
          "base_uri": "https://localhost:8080/"
        },
        "id": "QAATaLb0ONgp",
        "outputId": "1355a09f-3f4c-490d-9e3f-e64a26a32007"
      },
      "execution_count": 28,
      "outputs": [
        {
          "output_type": "stream",
          "name": "stdout",
          "text": [
            "[[1. 0. 0.]\n",
            " [0. 1. 0.]\n",
            " [0. 0. 1.]]\n"
          ]
        }
      ]
    },
    {
      "cell_type": "code",
      "source": [
        "a=np.array([1,2,3])\n",
        "b=np.array([4,5,6])\n",
        "c=a+b\n",
        "print(c)"
      ],
      "metadata": {
        "colab": {
          "base_uri": "https://localhost:8080/"
        },
        "id": "Bk4sXkjcOPmq",
        "outputId": "44838f04-b6f1-4410-a6bb-4ae254cd956c"
      },
      "execution_count": 29,
      "outputs": [
        {
          "output_type": "stream",
          "name": "stdout",
          "text": [
            "[5 7 9]\n"
          ]
        }
      ]
    },
    {
      "cell_type": "code",
      "source": [
        "a=np.array([1,2,3])\n",
        "b=np.array([4,5,6])\n",
        "c=b-a\n",
        "print(c)"
      ],
      "metadata": {
        "colab": {
          "base_uri": "https://localhost:8080/"
        },
        "id": "qUS_oTP3OQ6D",
        "outputId": "091824bf-d5a4-467e-e77c-95f53c49fd28"
      },
      "execution_count": 30,
      "outputs": [
        {
          "output_type": "stream",
          "name": "stdout",
          "text": [
            "[3 3 3]\n"
          ]
        }
      ]
    },
    {
      "cell_type": "code",
      "source": [
        "a=np.array([1,2,3])\n",
        "b=np.array([4,5,6])\n",
        "c=a*b\n",
        "print(c)"
      ],
      "metadata": {
        "colab": {
          "base_uri": "https://localhost:8080/"
        },
        "id": "EAPcc8sMOTan",
        "outputId": "edbbd0b0-31c6-4676-ee60-b96d041112c2"
      },
      "execution_count": 31,
      "outputs": [
        {
          "output_type": "stream",
          "name": "stdout",
          "text": [
            "[ 4 10 18]\n"
          ]
        }
      ]
    },
    {
      "cell_type": "code",
      "source": [
        "a=np.array([1,2,3])\n",
        "b=np.array([4,5,6])\n",
        "c=b/a\n",
        "print(c)"
      ],
      "metadata": {
        "colab": {
          "base_uri": "https://localhost:8080/"
        },
        "id": "FTp-Myl5OUtr",
        "outputId": "1233e9c2-0119-49d0-8c7a-83a271adbb80"
      },
      "execution_count": 32,
      "outputs": [
        {
          "output_type": "stream",
          "name": "stdout",
          "text": [
            "[4.  2.5 2. ]\n"
          ]
        }
      ]
    },
    {
      "cell_type": "code",
      "source": [
        "a=np.array([1,2,3])\n",
        "b=a*2\n",
        "print(b)\n",
        "c=a/2\n",
        "print(c)"
      ],
      "metadata": {
        "colab": {
          "base_uri": "https://localhost:8080/"
        },
        "id": "94WXic5rOVl-",
        "outputId": "1c8e45ff-9783-4768-bc7c-7776d2ade939"
      },
      "execution_count": 33,
      "outputs": [
        {
          "output_type": "stream",
          "name": "stdout",
          "text": [
            "[2 4 6]\n",
            "[0.5 1.  1.5]\n"
          ]
        }
      ]
    },
    {
      "cell_type": "code",
      "source": [
        "a=np.array([1,4,9])\n",
        "b=np.sqrt(a)\n",
        "print(b)"
      ],
      "metadata": {
        "colab": {
          "base_uri": "https://localhost:8080/"
        },
        "id": "FTow92RwOWyk",
        "outputId": "0819730e-def7-4040-9ec3-16291d6d0d11"
      },
      "execution_count": 34,
      "outputs": [
        {
          "output_type": "stream",
          "name": "stdout",
          "text": [
            "[1. 2. 3.]\n"
          ]
        }
      ]
    },
    {
      "cell_type": "code",
      "source": [
        "a=np.array([1,2,3])\n",
        "b=np.exp(a)\n",
        "print(b)"
      ],
      "metadata": {
        "colab": {
          "base_uri": "https://localhost:8080/"
        },
        "id": "EAqIF99nOXwV",
        "outputId": "eca40536-54cd-4373-ea03-980c783c5108"
      },
      "execution_count": 35,
      "outputs": [
        {
          "output_type": "stream",
          "name": "stdout",
          "text": [
            "[ 2.71828183  7.3890561  20.08553692]\n"
          ]
        }
      ]
    },
    {
      "cell_type": "code",
      "source": [
        "a=np.array([1,2,3])\n",
        "b=2\n",
        "c=a+b\n",
        "print(c)"
      ],
      "metadata": {
        "colab": {
          "base_uri": "https://localhost:8080/"
        },
        "id": "GnoznFHGOY4l",
        "outputId": "cc121fc1-76fb-4fb1-d560-d3e6e96b9632"
      },
      "execution_count": 36,
      "outputs": [
        {
          "output_type": "stream",
          "name": "stdout",
          "text": [
            "[3 4 5]\n"
          ]
        }
      ]
    },
    {
      "cell_type": "code",
      "source": [
        "a=np.array([[1,2,3],[4,5,6]])\n",
        "b=np.array([10,20,30])\n",
        "c=a+b\n",
        "print(c)"
      ],
      "metadata": {
        "colab": {
          "base_uri": "https://localhost:8080/"
        },
        "id": "SdRWq-uoOcDK",
        "outputId": "607430c7-8f95-42e8-f48f-e3d8388d8ee7"
      },
      "execution_count": 37,
      "outputs": [
        {
          "output_type": "stream",
          "name": "stdout",
          "text": [
            "[[11 22 33]\n",
            " [14 25 36]]\n"
          ]
        }
      ]
    },
    {
      "cell_type": "code",
      "source": [
        "a=np.array([[1,2,3],[4,5,6]])\n",
        "b=np.array([[1,2], [3,4],[5,6]])\n",
        "c=a+b"
      ],
      "metadata": {
        "colab": {
          "base_uri": "https://localhost:8080/",
          "height": 176
        },
        "id": "FEJPBsjEOdA3",
        "outputId": "611c5da7-122e-42ad-ab38-47b1d9e82691"
      },
      "execution_count": 38,
      "outputs": [
        {
          "output_type": "error",
          "ename": "ValueError",
          "evalue": "operands could not be broadcast together with shapes (2,3) (3,2) ",
          "traceback": [
            "\u001b[0;31m---------------------------------------------------------------------------\u001b[0m",
            "\u001b[0;31mValueError\u001b[0m                                Traceback (most recent call last)",
            "\u001b[0;32m<ipython-input-38-c5629183f251>\u001b[0m in \u001b[0;36m<cell line: 3>\u001b[0;34m()\u001b[0m\n\u001b[1;32m      1\u001b[0m \u001b[0ma\u001b[0m \u001b[0;34m=\u001b[0m \u001b[0mnp\u001b[0m\u001b[0;34m.\u001b[0m\u001b[0marray\u001b[0m\u001b[0;34m(\u001b[0m\u001b[0;34m[\u001b[0m\u001b[0;34m[\u001b[0m\u001b[0;36m1\u001b[0m\u001b[0;34m,\u001b[0m \u001b[0;36m2\u001b[0m\u001b[0;34m,\u001b[0m \u001b[0;36m3\u001b[0m\u001b[0;34m]\u001b[0m\u001b[0;34m,\u001b[0m \u001b[0;34m[\u001b[0m\u001b[0;36m4\u001b[0m\u001b[0;34m,\u001b[0m \u001b[0;36m5\u001b[0m\u001b[0;34m,\u001b[0m \u001b[0;36m6\u001b[0m\u001b[0;34m]\u001b[0m\u001b[0;34m]\u001b[0m\u001b[0;34m)\u001b[0m\u001b[0;34m\u001b[0m\u001b[0;34m\u001b[0m\u001b[0m\n\u001b[1;32m      2\u001b[0m \u001b[0mb\u001b[0m \u001b[0;34m=\u001b[0m \u001b[0mnp\u001b[0m\u001b[0;34m.\u001b[0m\u001b[0marray\u001b[0m\u001b[0;34m(\u001b[0m\u001b[0;34m[\u001b[0m\u001b[0;34m[\u001b[0m\u001b[0;36m1\u001b[0m\u001b[0;34m,\u001b[0m \u001b[0;36m2\u001b[0m\u001b[0;34m]\u001b[0m\u001b[0;34m,\u001b[0m \u001b[0;34m[\u001b[0m\u001b[0;36m3\u001b[0m\u001b[0;34m,\u001b[0m \u001b[0;36m4\u001b[0m\u001b[0;34m]\u001b[0m\u001b[0;34m,\u001b[0m \u001b[0;34m[\u001b[0m\u001b[0;36m5\u001b[0m\u001b[0;34m,\u001b[0m \u001b[0;36m6\u001b[0m\u001b[0;34m]\u001b[0m\u001b[0;34m]\u001b[0m\u001b[0;34m)\u001b[0m\u001b[0;34m\u001b[0m\u001b[0;34m\u001b[0m\u001b[0m\n\u001b[0;32m----> 3\u001b[0;31m \u001b[0mc\u001b[0m \u001b[0;34m=\u001b[0m \u001b[0ma\u001b[0m \u001b[0;34m+\u001b[0m \u001b[0mb\u001b[0m\u001b[0;34m\u001b[0m\u001b[0;34m\u001b[0m\u001b[0m\n\u001b[0m",
            "\u001b[0;31mValueError\u001b[0m: operands could not be broadcast together with shapes (2,3) (3,2) "
          ]
        }
      ]
    },
    {
      "cell_type": "code",
      "source": [
        "import time\n",
        "a=np.random.rand(10000000)\n",
        "b=np.random.rand(10000000)\n",
        "start=time.time()\n",
        "c=a+b\n",
        "end=time.time()\n",
        "print(f\"NumPy element-wise addition took: {end-start:.6f} seconds\")\n",
        "start=time.time()\n",
        "x=[i for i in range(10000000)]\n",
        "y=[i for i in range(10000000)]\n",
        "z=[x[i]+y[i] for i in range(10000000)]\n",
        "end=time.time()\n",
        "print(f\"Python list element-wise addition took: {end-start:.6f} seconds\")"
      ],
      "metadata": {
        "colab": {
          "base_uri": "https://localhost:8080/"
        },
        "id": "c9Wpxx-HOeY7",
        "outputId": "e2b65ab3-07bc-4ee5-a184-fd7b339d4c77"
      },
      "execution_count": 39,
      "outputs": [
        {
          "output_type": "stream",
          "name": "stdout",
          "text": [
            "NumPy element-wise addition took: 0.048119 seconds\n",
            "Python list element-wise addition took: 4.613806 seconds\n"
          ]
        }
      ]
    },
    {
      "cell_type": "code",
      "source": [
        "a=np.array([1,2,3,4,5])\n",
        "print(a[0])\n",
        "print(a[3])"
      ],
      "metadata": {
        "colab": {
          "base_uri": "https://localhost:8080/"
        },
        "id": "huiQHmUCOkxR",
        "outputId": "4504ea91-d95e-402a-e164-ddbbbde32c45"
      },
      "execution_count": 40,
      "outputs": [
        {
          "output_type": "stream",
          "name": "stdout",
          "text": [
            "1\n",
            "4\n"
          ]
        }
      ]
    },
    {
      "cell_type": "code",
      "source": [
        "b=np.array([[1,2,3],[4,5,6],[7,8,9]])\n",
        "print(b[0,0])\n",
        "print(b[2,1])"
      ],
      "metadata": {
        "colab": {
          "base_uri": "https://localhost:8080/"
        },
        "id": "O2jftjKoOmN_",
        "outputId": "83af9e93-5765-4b94-f031-e068d9fd83f8"
      },
      "execution_count": 41,
      "outputs": [
        {
          "output_type": "stream",
          "name": "stdout",
          "text": [
            "1\n",
            "8\n"
          ]
        }
      ]
    },
    {
      "cell_type": "code",
      "source": [
        "a=np.array([1,2,3,4,5])\n",
        "indices=np.array([0,2,4])\n",
        "print(a[indices])"
      ],
      "metadata": {
        "colab": {
          "base_uri": "https://localhost:8080/"
        },
        "id": "jrtRImzlOoZX",
        "outputId": "fa888e5f-064f-47f0-9fb7-2240155a627e"
      },
      "execution_count": 42,
      "outputs": [
        {
          "output_type": "stream",
          "name": "stdout",
          "text": [
            "[1 3 5]\n"
          ]
        }
      ]
    },
    {
      "cell_type": "code",
      "source": [
        "b=np.array([[1,2,3],[4,5,6],[7,8,9]])\n",
        "rows=np.array([0,2])\n",
        "cols=np.array([0,2])\n",
        "print(b[rows,cols])"
      ],
      "metadata": {
        "colab": {
          "base_uri": "https://localhost:8080/"
        },
        "id": "-k1mUZm8Op4H",
        "outputId": "5eccfa87-040a-4cf8-954b-87c63be32c55"
      },
      "execution_count": 43,
      "outputs": [
        {
          "output_type": "stream",
          "name": "stdout",
          "text": [
            "[1 9]\n"
          ]
        }
      ]
    },
    {
      "cell_type": "code",
      "source": [
        "a=np.array([1,2,3,4,5])\n",
        "print(a[a>3])"
      ],
      "metadata": {
        "colab": {
          "base_uri": "https://localhost:8080/"
        },
        "id": "nO0mOc3IOq8x",
        "outputId": "6fade7fa-e7fe-432b-fc40-b6a35d259141"
      },
      "execution_count": 44,
      "outputs": [
        {
          "output_type": "stream",
          "name": "stdout",
          "text": [
            "[4 5]\n"
          ]
        }
      ]
    },
    {
      "cell_type": "code",
      "source": [
        "b=np.array([[1,2,3],[4,5,6],[7,8,9]])\n",
        "print(b[b>5])"
      ],
      "metadata": {
        "colab": {
          "base_uri": "https://localhost:8080/"
        },
        "id": "ITp-zdwiOsA0",
        "outputId": "4cef4283-7ae0-4224-c7f8-0519818ab023"
      },
      "execution_count": 45,
      "outputs": [
        {
          "output_type": "stream",
          "name": "stdout",
          "text": [
            "[6 7 8 9]\n"
          ]
        }
      ]
    },
    {
      "cell_type": "code",
      "source": [
        "a=np.array([1,2,3,4,5,6,7,8,9])\n",
        "print(a[2:6])\n",
        "print(a[:4])\n",
        "print(a[5:])\n",
        "print(a[::2])\n",
        "print(a[::-1])"
      ],
      "metadata": {
        "colab": {
          "base_uri": "https://localhost:8080/"
        },
        "id": "tvLZsjMROs37",
        "outputId": "4dcfef22-4759-4ed9-9065-d85add19f9ea"
      },
      "execution_count": 46,
      "outputs": [
        {
          "output_type": "stream",
          "name": "stdout",
          "text": [
            "[3 4 5 6]\n",
            "[1 2 3 4]\n",
            "[6 7 8 9]\n",
            "[1 3 5 7 9]\n",
            "[9 8 7 6 5 4 3 2 1]\n"
          ]
        }
      ]
    },
    {
      "cell_type": "code",
      "source": [
        "b=np.array([[1,2,3],[4,5,6],[7,8,9]])\n",
        "print(b[0:2,0:2])\n",
        "print(b[:,1])\n",
        "print(b[1:,:2])"
      ],
      "metadata": {
        "colab": {
          "base_uri": "https://localhost:8080/"
        },
        "id": "tRicdz2-OuUt",
        "outputId": "bf756c16-e0b3-4b64-e12d-76156c7a0a2b"
      },
      "execution_count": 47,
      "outputs": [
        {
          "output_type": "stream",
          "name": "stdout",
          "text": [
            "[[1 2]\n",
            " [4 5]]\n",
            "[2 5 8]\n",
            "[[4 5]\n",
            " [7 8]]\n"
          ]
        }
      ]
    },
    {
      "cell_type": "code",
      "source": [
        "a=np.array([1,2,3,4,5,6,7,8,9])\n",
        "print(a[::3])\n",
        "print(a[::-2])"
      ],
      "metadata": {
        "colab": {
          "base_uri": "https://localhost:8080/"
        },
        "id": "FNXiuJLmOvq-",
        "outputId": "fd26fd34-cd0a-4ea5-e305-027accdfeea1"
      },
      "execution_count": 48,
      "outputs": [
        {
          "output_type": "stream",
          "name": "stdout",
          "text": [
            "[1 4 7]\n",
            "[9 7 5 3 1]\n"
          ]
        }
      ]
    },
    {
      "cell_type": "code",
      "source": [
        "a=np.array([1,2,3,4,5])\n",
        "a[1:4]=10\n",
        "print(a)"
      ],
      "metadata": {
        "colab": {
          "base_uri": "https://localhost:8080/"
        },
        "id": "T4dh57VTOwgo",
        "outputId": "8cd940d6-e594-40c4-f3bf-902ff8d4c6c2"
      },
      "execution_count": 49,
      "outputs": [
        {
          "output_type": "stream",
          "name": "stdout",
          "text": [
            "[ 1 10 10 10  5]\n"
          ]
        }
      ]
    },
    {
      "cell_type": "code",
      "source": [
        "a=np.array([1,2,3,4,5,6])\n",
        "print(a.shape)\n",
        "b=a.reshape(2,3)\n",
        "print(b)\n",
        "c=a.reshape(2,1,3)\n",
        "print(c)"
      ],
      "metadata": {
        "colab": {
          "base_uri": "https://localhost:8080/"
        },
        "id": "rRX3x78ROxnq",
        "outputId": "a79ed364-4568-4995-a46e-fa2118a24a07"
      },
      "execution_count": 50,
      "outputs": [
        {
          "output_type": "stream",
          "name": "stdout",
          "text": [
            "(6,)\n",
            "[[1 2 3]\n",
            " [4 5 6]]\n",
            "[[[1 2 3]]\n",
            "\n",
            " [[4 5 6]]]\n"
          ]
        }
      ]
    },
    {
      "cell_type": "code",
      "source": [
        "a=np.array([1,2,3])\n",
        "b=np.array([4,5,6])"
      ],
      "metadata": {
        "id": "w1a81T2wOzsN"
      },
      "execution_count": 51,
      "outputs": []
    },
    {
      "cell_type": "code",
      "source": [
        "c=np.stack((a,b))\n",
        "print(c)"
      ],
      "metadata": {
        "colab": {
          "base_uri": "https://localhost:8080/"
        },
        "id": "XwFdFkTnO9h2",
        "outputId": "d804707e-c832-4061-8713-005ebacad875"
      },
      "execution_count": 52,
      "outputs": [
        {
          "output_type": "stream",
          "name": "stdout",
          "text": [
            "[[1 2 3]\n",
            " [4 5 6]]\n"
          ]
        }
      ]
    },
    {
      "cell_type": "code",
      "source": [
        "d=np.concatenate((a,b),axis=None)\n",
        "print(d)"
      ],
      "metadata": {
        "colab": {
          "base_uri": "https://localhost:8080/"
        },
        "id": "2AvF73qbO_Wc",
        "outputId": "7b24dc63-cdf2-4f97-8d89-43bb960025e6"
      },
      "execution_count": 53,
      "outputs": [
        {
          "output_type": "stream",
          "name": "stdout",
          "text": [
            "[1 2 3 4 5 6]\n"
          ]
        }
      ]
    },
    {
      "cell_type": "code",
      "source": [
        "e=np.array([[1, 2],[3,4]])\n",
        "f=np.array([[5, 6],[7,8]])\n",
        "g=np.concatenate((e,f),axis=0)\n",
        "print(g)"
      ],
      "metadata": {
        "colab": {
          "base_uri": "https://localhost:8080/"
        },
        "id": "hq6P8KrYPAPP",
        "outputId": "41939402-03e0-4e02-e633-c467f149d155"
      },
      "execution_count": 54,
      "outputs": [
        {
          "output_type": "stream",
          "name": "stdout",
          "text": [
            "[[1 2]\n",
            " [3 4]\n",
            " [5 6]\n",
            " [7 8]]\n"
          ]
        }
      ]
    },
    {
      "cell_type": "code",
      "source": [
        "a=np.array([1,2])\n",
        "b=np.array([3,4])"
      ],
      "metadata": {
        "id": "fadWRIakPBsS"
      },
      "execution_count": 55,
      "outputs": []
    },
    {
      "cell_type": "code",
      "source": [
        "c=np.hstack((a,b))\n",
        "print(c)"
      ],
      "metadata": {
        "colab": {
          "base_uri": "https://localhost:8080/"
        },
        "id": "K9bhMD50PC4K",
        "outputId": "ef6c8348-cbfe-4686-cde7-4c62ccc6e3dd"
      },
      "execution_count": 56,
      "outputs": [
        {
          "output_type": "stream",
          "name": "stdout",
          "text": [
            "[1 2 3 4]\n"
          ]
        }
      ]
    },
    {
      "cell_type": "code",
      "source": [
        "d=np.vstack((a,b))\n",
        "print(d)"
      ],
      "metadata": {
        "colab": {
          "base_uri": "https://localhost:8080/"
        },
        "id": "HUvbqYjXPF8B",
        "outputId": "a6213a5a-33d6-4361-ff6e-96467155173a"
      },
      "execution_count": 57,
      "outputs": [
        {
          "output_type": "stream",
          "name": "stdout",
          "text": [
            "[[1 2]\n",
            " [3 4]]\n"
          ]
        }
      ]
    },
    {
      "cell_type": "code",
      "source": [
        "e=np.stack((a,b),axis=1)\n",
        "print(e)"
      ],
      "metadata": {
        "colab": {
          "base_uri": "https://localhost:8080/"
        },
        "id": "LCkuZH2NPG5L",
        "outputId": "5cf76a1d-e182-4fde-88c9-2b55d936e334"
      },
      "execution_count": 58,
      "outputs": [
        {
          "output_type": "stream",
          "name": "stdout",
          "text": [
            "[[1 3]\n",
            " [2 4]]\n"
          ]
        }
      ]
    },
    {
      "cell_type": "code",
      "source": [
        "a=np.array([[1,2,3,4],\n",
        "              [5,6,7,8],\n",
        "              [9,10,11,12],\n",
        "              [13,14,15,16]])"
      ],
      "metadata": {
        "id": "XprneHk4PH1e"
      },
      "execution_count": 59,
      "outputs": []
    },
    {
      "cell_type": "code",
      "source": [
        "left,right=np.hsplit(a,2)\n",
        "print(\"Horizontal split:\")\n",
        "print(\"Left sub-array:\\n\",left)\n",
        "print(\"Right sub-array:\\n\",right)"
      ],
      "metadata": {
        "colab": {
          "base_uri": "https://localhost:8080/"
        },
        "id": "x7tzMVALPI-1",
        "outputId": "45ecd23a-4313-4501-b2bf-cfc110897524"
      },
      "execution_count": 60,
      "outputs": [
        {
          "output_type": "stream",
          "name": "stdout",
          "text": [
            "Horizontal split:\n",
            "Left sub-array:\n",
            " [[ 1  2]\n",
            " [ 5  6]\n",
            " [ 9 10]\n",
            " [13 14]]\n",
            "Right sub-array:\n",
            " [[ 3  4]\n",
            " [ 7  8]\n",
            " [11 12]\n",
            " [15 16]]\n"
          ]
        }
      ]
    },
    {
      "cell_type": "code",
      "source": [
        "a=np.array([1,2,3])\n",
        "b=np.append(a,[4,5])\n",
        "print(b)\n",
        "c=np.array([[1,2],[3,4]])\n",
        "d=np.append(c,[[5,6]],axis=0)\n",
        "print(d)"
      ],
      "metadata": {
        "colab": {
          "base_uri": "https://localhost:8080/"
        },
        "id": "3A2eaDwNPJ8Q",
        "outputId": "3c4e799b-909f-45fd-89c3-573886212031"
      },
      "execution_count": 61,
      "outputs": [
        {
          "output_type": "stream",
          "name": "stdout",
          "text": [
            "[1 2 3 4 5]\n",
            "[[1 2]\n",
            " [3 4]\n",
            " [5 6]]\n"
          ]
        }
      ]
    },
    {
      "cell_type": "code",
      "source": [
        "a=np.array([1,2,3,4,5])\n",
        "b=np.insert(a,2,[10,20])\n",
        "print(b)\n",
        "c=np.array([[1,2],[3,4]])\n",
        "d=np.insert(c,1,[10,20],axis=1)\n",
        "print(d)"
      ],
      "metadata": {
        "colab": {
          "base_uri": "https://localhost:8080/"
        },
        "id": "SEWJYn7cPMIy",
        "outputId": "d43c6772-9645-4e38-fe3d-d90a27ed5c3e"
      },
      "execution_count": 62,
      "outputs": [
        {
          "output_type": "stream",
          "name": "stdout",
          "text": [
            "[ 1  2 10 20  3  4  5]\n",
            "[[ 1 10  2]\n",
            " [ 3 20  4]]\n"
          ]
        }
      ]
    },
    {
      "cell_type": "code",
      "source": [
        "a=np.array([1,2,3,4,5])\n",
        "b=np.delete(a,[0,2])\n",
        "print(b)\n",
        "c=np.array([[1,2,3],[4,5,6]])\n",
        "d=np.delete(c,1,axis=1)\n",
        "print(d)"
      ],
      "metadata": {
        "colab": {
          "base_uri": "https://localhost:8080/"
        },
        "id": "uBmO1W6aPNqi",
        "outputId": "c4aa2a3d-24c0-4d06-ce3c-1ce40d77203e"
      },
      "execution_count": 63,
      "outputs": [
        {
          "output_type": "stream",
          "name": "stdout",
          "text": [
            "[2 4 5]\n",
            "[[1 3]\n",
            " [4 6]]\n"
          ]
        }
      ]
    },
    {
      "cell_type": "code",
      "source": [
        "a=np.array([1,2,3,4,5])\n",
        "b=np.resize(a,(3,3))\n",
        "print(b)"
      ],
      "metadata": {
        "colab": {
          "base_uri": "https://localhost:8080/"
        },
        "id": "b6k9KfE5PO-S",
        "outputId": "fe63da15-c285-4370-8522-5f46121f3796"
      },
      "execution_count": 64,
      "outputs": [
        {
          "output_type": "stream",
          "name": "stdout",
          "text": [
            "[[1 2 3]\n",
            " [4 5 1]\n",
            " [2 3 4]]\n"
          ]
        }
      ]
    },
    {
      "cell_type": "markdown",
      "source": [
        "# EXERCISE"
      ],
      "metadata": {
        "id": "bZY4RQh0QC2z"
      }
    },
    {
      "cell_type": "markdown",
      "source": [
        "# Array Operations and Broadcasting:"
      ],
      "metadata": {
        "id": "QQ0Cgr2Mb1E4"
      }
    },
    {
      "cell_type": "code",
      "source": [
        "a=np.random.rand(2,3,4)\n",
        "b=np.random.rand(3,4)"
      ],
      "metadata": {
        "colab": {
          "base_uri": "https://localhost:8080/"
        },
        "id": "EN0iHy-lPQMh",
        "outputId": "004c692c-d116-46b6-d9b6-9595a4a287c3"
      },
      "execution_count": 65,
      "outputs": [
        {
          "output_type": "stream",
          "name": "stdout",
          "text": [
            "[[[0.04126935 0.00213087 0.12270021 0.22719417]\n",
            "  [0.83253441 0.10799183 0.47123165 0.11917008]\n",
            "  [0.47302612 0.54756532 0.0941427  0.17650126]]\n",
            "\n",
            " [[0.01852324 0.00482669 0.30432122 0.00530553]\n",
            "  [0.45113226 0.16335904 0.23754755 0.18495681]\n",
            "  [0.15688604 0.72915501 0.03382493 0.12397554]]]\n"
          ]
        }
      ]
    },
    {
      "cell_type": "code",
      "source": [
        "result_mult=a*b\n",
        "print(\"Result of element-wise multiplication:\")\n",
        "print(result_mult)"
      ],
      "metadata": {
        "colab": {
          "base_uri": "https://localhost:8080/"
        },
        "id": "Kr-QZDbuQHiU",
        "outputId": "cb753bb8-4091-49fb-a4ad-93e72c206d17"
      },
      "execution_count": 66,
      "outputs": [
        {
          "output_type": "stream",
          "name": "stdout",
          "text": [
            "Result of element-wise multiplication:\n",
            "[[[0.04126935 0.00213087 0.12270021 0.22719417]\n",
            "  [0.83253441 0.10799183 0.47123165 0.11917008]\n",
            "  [0.47302612 0.54756532 0.0941427  0.17650126]]\n",
            "\n",
            " [[0.01852324 0.00482669 0.30432122 0.00530553]\n",
            "  [0.45113226 0.16335904 0.23754755 0.18495681]\n",
            "  [0.15688604 0.72915501 0.03382493 0.12397554]]]\n"
          ]
        }
      ]
    },
    {
      "cell_type": "code",
      "source": [
        "def elementwise_operations(c,d):\n",
        "    try:\n",
        "        add=c+d\n",
        "        sub=c-d\n",
        "        mul=c*d\n",
        "        div=c/d\n",
        "    except ValueError as e:\n",
        "        return f\"Broadcasting not possible: {e}\"\n",
        "    return {'addition':add,'subtraction':sub,'multiplication':mul,'division':div}"
      ],
      "metadata": {
        "id": "JDiF-hMMabHW"
      },
      "execution_count": 68,
      "outputs": []
    },
    {
      "cell_type": "code",
      "source": [
        "c=np.random.rand(4,3)\n",
        "d=np.random.rand(4,1)"
      ],
      "metadata": {
        "id": "cb0SIiVeakOa"
      },
      "execution_count": 70,
      "outputs": []
    },
    {
      "cell_type": "code",
      "source": [
        "operations_result=elementwise_operations(c,d)\n",
        "print(\"Element-wise operations results:\")\n",
        "print(operations_result)"
      ],
      "metadata": {
        "colab": {
          "base_uri": "https://localhost:8080/"
        },
        "id": "y9DDS8Z7atjE",
        "outputId": "4c13ce94-a8be-48e7-f21f-d3886c1155e1"
      },
      "execution_count": 71,
      "outputs": [
        {
          "output_type": "stream",
          "name": "stdout",
          "text": [
            "Element-wise operations results:\n",
            "{'addition': array([[0.42069045, 0.38179358, 0.68454246],\n",
            "       [1.09482509, 1.4958976 , 0.78145945],\n",
            "       [0.65256949, 0.90038644, 1.18709466],\n",
            "       [1.38400107, 0.853293  , 0.83983863]]), 'subtraction': array([[-0.30124777, -0.34014464, -0.03739577],\n",
            "       [-0.15122023,  0.24985227, -0.46458587],\n",
            "       [-0.5464012 , -0.29858426, -0.01187604],\n",
            "       [ 0.52626502, -0.00444305, -0.01789742]]), 'multiplication': array([[0.02155756, 0.00751699, 0.11679998],\n",
            "       [0.29394361, 0.54382087, 0.09870971],\n",
            "       [0.03182317, 0.18038579, 0.35226317],\n",
            "       [0.40962602, 0.1820223 , 0.17625215]]), 'division': array([[0.16544723, 0.05769045, 0.89640174],\n",
            "       [0.75727972, 1.4010324 , 0.25430341],\n",
            "       [0.08854953, 0.50193235, 0.98018961],\n",
            "       [2.22710249, 0.98964006, 0.95826824]])}\n"
          ]
        }
      ]
    },
    {
      "cell_type": "code",
      "source": [
        "e=np.random.rand(5,3)\n",
        "f=np.random.rand(5)"
      ],
      "metadata": {
        "id": "Y92-naSxaw8k"
      },
      "execution_count": 72,
      "outputs": []
    },
    {
      "cell_type": "code",
      "source": [
        "outer_product=e*f[:,np.newaxis]\n",
        "print(\"Outer product result:\")\n",
        "print(outer_product)"
      ],
      "metadata": {
        "colab": {
          "base_uri": "https://localhost:8080/"
        },
        "id": "ArOmfzAna2l-",
        "outputId": "fe2a47f6-ad94-47d6-cce7-b7b250245e22"
      },
      "execution_count": 73,
      "outputs": [
        {
          "output_type": "stream",
          "name": "stdout",
          "text": [
            "Outer product result:\n",
            "[[0.0979397  0.0727106  0.33550697]\n",
            " [0.21782067 0.94882788 0.63259068]\n",
            " [0.46337776 0.20161379 0.18657886]\n",
            " [0.08256771 0.01061222 0.04474998]\n",
            " [0.10590894 0.63476134 0.26987018]]\n"
          ]
        }
      ]
    },
    {
      "cell_type": "markdown",
      "source": [
        "# Indexing and Slicing:"
      ],
      "metadata": {
        "id": "xVO0m95Zbx1W"
      }
    },
    {
      "cell_type": "code",
      "source": [
        "g=np.random.rand(4,3,2)\n",
        "extracted_g=g[::2,::2,:]\n",
        "print(\"Extracted array:\")\n",
        "print(extracted_g)"
      ],
      "metadata": {
        "colab": {
          "base_uri": "https://localhost:8080/"
        },
        "id": "YRh_3MFOa67D",
        "outputId": "4f38c71c-71bb-46c0-be90-02ce1341fe47"
      },
      "execution_count": 74,
      "outputs": [
        {
          "output_type": "stream",
          "name": "stdout",
          "text": [
            "Extracted array:\n",
            "[[[0.55802769 0.87751225]\n",
            "  [0.58879221 0.41433534]]\n",
            "\n",
            " [[0.69395524 0.74554015]\n",
            "  [0.5943081  0.64958989]]]\n"
          ]
        }
      ]
    },
    {
      "cell_type": "code",
      "source": [
        "def sum_diagonals(h,i,j):\n",
        "    k=np.zeros((len(i),len(j)))\n",
        "    for m in range(len(i)):\n",
        "        for n in range(len(j)):\n",
        "            k[m,n]=np.sum(np.diag(h,j[n]-i[m]))\n",
        "    return k\n"
      ],
      "metadata": {
        "id": "VV05C2jSb9or"
      },
      "execution_count": 75,
      "outputs": []
    },
    {
      "cell_type": "code",
      "source": [
        "h=np.random.rand(4,4)\n",
        "i=np.array([0,1])\n",
        "j=np.array([0,2])"
      ],
      "metadata": {
        "id": "5eMTjVQncLxW"
      },
      "execution_count": 76,
      "outputs": []
    },
    {
      "cell_type": "code",
      "source": [
        "k=sum_diagonals(h,i,j)\n",
        "print(\"Sum of diagonals result:\")\n",
        "print(k)"
      ],
      "metadata": {
        "colab": {
          "base_uri": "https://localhost:8080/"
        },
        "id": "bHQggvFEcPw1",
        "outputId": "c43c14c4-e3b1-4c1d-cf97-d586b333f645"
      },
      "execution_count": 77,
      "outputs": [
        {
          "output_type": "stream",
          "name": "stdout",
          "text": [
            "Sum of diagonals result:\n",
            "[[2.60648246 1.03344197]\n",
            " [1.93640932 1.40486077]]\n"
          ]
        }
      ]
    },
    {
      "cell_type": "code",
      "source": [
        "def product_of_means(l):\n",
        "    row_means=l.mean(axis=1,keepdims=True)\n",
        "    col_means=l.mean(axis=0,keepdims=True)\n",
        "    m=row_means*col_means\n",
        "    return m\n"
      ],
      "metadata": {
        "id": "DC9gqnZBciPf"
      },
      "execution_count": 78,
      "outputs": []
    },
    {
      "cell_type": "code",
      "source": [
        "l=np.random.rand(4,5)"
      ],
      "metadata": {
        "id": "p0psEYkTcoSq"
      },
      "execution_count": 79,
      "outputs": []
    },
    {
      "cell_type": "code",
      "source": [
        "m=product_of_means(l)\n",
        "print(\"Product of row and column means result:\")\n",
        "print(m)"
      ],
      "metadata": {
        "colab": {
          "base_uri": "https://localhost:8080/"
        },
        "id": "FIk0Dw0jcq0Y",
        "outputId": "da2ffd05-b676-4def-ac63-64bc5e80236e"
      },
      "execution_count": 80,
      "outputs": [
        {
          "output_type": "stream",
          "name": "stdout",
          "text": [
            "Product of row and column means result:\n",
            "[[0.14203389 0.17227075 0.07657105 0.18178394 0.20619842]\n",
            " [0.22253516 0.26990951 0.11996961 0.28481454 0.32306654]\n",
            " [0.23286018 0.28243258 0.12553587 0.29802917 0.33805595]\n",
            " [0.19774221 0.23983852 0.10660363 0.25308297 0.28707325]]\n"
          ]
        }
      ]
    },
    {
      "cell_type": "markdown",
      "source": [
        "# Array Manipulation:"
      ],
      "metadata": {
        "id": "umIydXKjcwQn"
      }
    },
    {
      "cell_type": "code",
      "source": [
        "n=np.random.rand(4,6)"
      ],
      "metadata": {
        "id": "x6baasfXcsj1"
      },
      "execution_count": 81,
      "outputs": []
    },
    {
      "cell_type": "code",
      "source": [
        "reshaped_n=n.reshape(2,2,6)\n",
        "print(\"Reshaped array:\")\n",
        "print(reshaped_n)"
      ],
      "metadata": {
        "colab": {
          "base_uri": "https://localhost:8080/"
        },
        "id": "hCYoP0h2ed77",
        "outputId": "046c8ba9-3fc9-4f00-c7b3-b9f37b1fd5bf"
      },
      "execution_count": 82,
      "outputs": [
        {
          "output_type": "stream",
          "name": "stdout",
          "text": [
            "Reshaped array:\n",
            "[[[0.60912829 0.53257333 0.01695701 0.17279767 0.79297443 0.00834945]\n",
            "  [0.42488784 0.52396447 0.90693231 0.6541206  0.7111498  0.67957573]]\n",
            "\n",
            " [[0.26980829 0.77910305 0.70385754 0.0884263  0.59548637 0.67702846]\n",
            "  [0.84337879 0.1644518  0.79926233 0.33073107 0.29565201 0.4078173 ]]]\n"
          ]
        }
      ]
    },
    {
      "cell_type": "code",
      "source": [
        "flattened_n=reshaped_n.reshape(4,6)\n",
        "print(\"Flattened back to original shape:\")\n",
        "print(flattened_n)"
      ],
      "metadata": {
        "colab": {
          "base_uri": "https://localhost:8080/"
        },
        "id": "J2tdtHZVeghu",
        "outputId": "3085ce72-a473-490f-d07f-6792fc085ac0"
      },
      "execution_count": 83,
      "outputs": [
        {
          "output_type": "stream",
          "name": "stdout",
          "text": [
            "Flattened back to original shape:\n",
            "[[0.60912829 0.53257333 0.01695701 0.17279767 0.79297443 0.00834945]\n",
            " [0.42488784 0.52396447 0.90693231 0.6541206  0.7111498  0.67957573]\n",
            " [0.26980829 0.77910305 0.70385754 0.0884263  0.59548637 0.67702846]\n",
            " [0.84337879 0.1644518  0.79926233 0.33073107 0.29565201 0.4078173 ]]\n"
          ]
        }
      ]
    },
    {
      "cell_type": "code",
      "source": [
        "def roll_array(o,positions):\n",
        "    return np.roll(o,positions,axis=0)"
      ],
      "metadata": {
        "id": "wYZTb6DNejM8"
      },
      "execution_count": 84,
      "outputs": []
    },
    {
      "cell_type": "code",
      "source": [
        "o=np.array([[1,2,3],[4,5,6],[7,8,9],[10,11,12]])\n",
        "positions=2"
      ],
      "metadata": {
        "id": "xsW7mEreeok9"
      },
      "execution_count": 85,
      "outputs": []
    },
    {
      "cell_type": "code",
      "source": [
        "rolled_o=roll_array(o,positions)\n",
        "print(\"Rolled array:\")\n",
        "print(rolled_o)"
      ],
      "metadata": {
        "colab": {
          "base_uri": "https://localhost:8080/"
        },
        "id": "txeXOSqXezIW",
        "outputId": "403e8e4a-565b-4237-fcfe-06cb2693aa3d"
      },
      "execution_count": 86,
      "outputs": [
        {
          "output_type": "stream",
          "name": "stdout",
          "text": [
            "Rolled array:\n",
            "[[ 7  8  9]\n",
            " [10 11 12]\n",
            " [ 1  2  3]\n",
            " [ 4  5  6]]\n"
          ]
        }
      ]
    },
    {
      "cell_type": "code",
      "source": [
        "def replace_with_mean(p,x):\n",
        "    p=p.copy()\n",
        "    rows, cols=p.shape\n",
        "    for i in range(rows):\n",
        "        for j in range(cols):\n",
        "            if p[i,j]==x:\n",
        "                neighbors=[]\n",
        "                if i>0:\n",
        "                    neighbors.append(p[i-1,j])\n",
        "                if i<rows-1:\n",
        "                    neighbors.append(p[i+1,j])\n",
        "                if j>0:\n",
        "                    neighbors.append(p[i,j-1])\n",
        "                if j<cols-1:\n",
        "                    neighbors.append(p[i,j+1])\n",
        "                if neighbors:\n",
        "                    p[i,j]=np.mean(neighbors)\n",
        "    return p"
      ],
      "metadata": {
        "id": "TZ0EeNXDe1oK"
      },
      "execution_count": 87,
      "outputs": []
    },
    {
      "cell_type": "code",
      "source": [
        "p=np.array([[1,2,3],[4,5,6], [7,8,5],[10,11,12]])\n",
        "x=5"
      ],
      "metadata": {
        "id": "0CNNsFrUfAq1"
      },
      "execution_count": 88,
      "outputs": []
    },
    {
      "cell_type": "code",
      "source": [
        "replaced_p=replace_with_mean(p,x)\n",
        "print(\"Array with replacements:\")\n",
        "print(replaced_p)"
      ],
      "metadata": {
        "colab": {
          "base_uri": "https://localhost:8080/"
        },
        "id": "ezUQo02JfJg2",
        "outputId": "44c2b051-7f73-4e74-dbfc-21f17c7c09e6"
      },
      "execution_count": 89,
      "outputs": [
        {
          "output_type": "stream",
          "name": "stdout",
          "text": [
            "Array with replacements:\n",
            "[[ 1  2  3]\n",
            " [ 4  5  6]\n",
            " [ 7  8  8]\n",
            " [10 11 12]]\n"
          ]
        }
      ]
    },
    {
      "cell_type": "code",
      "source": [],
      "metadata": {
        "id": "2Qowex31fOpt"
      },
      "execution_count": null,
      "outputs": []
    }
  ]
}