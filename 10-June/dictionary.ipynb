{
 "cells": [
  {
   "cell_type": "markdown",
   "metadata": {},
   "source": [
    "# Creating a Dictionary"
   ]
  },
  {
   "cell_type": "code",
   "execution_count": 1,
   "metadata": {},
   "outputs": [],
   "source": [
    "e=dict()\n",
    "person={'name':'John','age':30,'city':'New York'}"
   ]
  },
  {
   "cell_type": "markdown",
   "metadata": {},
   "source": [
    "# Accessing and Modifying Values"
   ]
  },
  {
   "cell_type": "code",
   "execution_count": 2,
   "metadata": {},
   "outputs": [
    {
     "name": "stdout",
     "output_type": "stream",
     "text": [
      "John\n",
      "30\n"
     ]
    }
   ],
   "source": [
    "print(person['name'])  \n",
    "print(person.get('age'))    \n",
    "person['age'] = 31"
   ]
  },
  {
   "cell_type": "markdown",
   "metadata": {},
   "source": [
    "Practical Examples and Use Cases"
   ]
  },
  {
   "cell_type": "code",
   "execution_count": 3,
   "metadata": {},
   "outputs": [
    {
     "name": "stdout",
     "output_type": "stream",
     "text": [
      "John Doe\n",
      "New York\n"
     ]
    }
   ],
   "source": [
    "# Representing a person object\n",
    "person={'name':'John Doe','age':30,'address':{'street':'123 Main St','city':'New York','state':'NY'}}\n",
    "print(person['name'])  \n",
    "print(person['address']['city'])  "
   ]
  },
  {
   "cell_type": "code",
   "execution_count": 4,
   "metadata": {},
   "outputs": [],
   "source": [
    "# Configuration settings for an application\n",
    "c={'debug': True,'log_file': 'app.log','database':{'host':'localhost','user':'root','password':'secret'}}\n",
    "# Accessing configuration values\n",
    "dm=c['debug']\n",
    "lf=c['log_file']\n",
    "dh=c['database']['host']"
   ]
  },
  {
   "cell_type": "code",
   "execution_count": 5,
   "metadata": {},
   "outputs": [
    {
     "name": "stdout",
     "output_type": "stream",
     "text": [
      "{'Hello,': 2, 'world!': 1, 'Python!': 1}\n"
     ]
    }
   ],
   "source": [
    "# Counting word occurrences in a sentence\n",
    "sen=\"Hello, world! Hello, Python!\"\n",
    "wordc={}\n",
    "for word in sen.split():\n",
    "    if word in wordc:\n",
    "        wordc[word] += 1\n",
    "    else:\n",
    "        wordc[word] = 1\n",
    "print(wordc)"
   ]
  },
  {
   "cell_type": "code",
   "execution_count": 6,
   "metadata": {},
   "outputs": [
    {
     "name": "stdout",
     "output_type": "stream",
     "text": [
      "[{'name': 'Bob', 'age': 35, 'city': 'Chicago'}]\n",
      "{'New York': [{'name': 'John', 'age': 25, 'city': 'New York'}], 'Los Angeles': [{'name': 'Jane', 'age': 30, 'city': 'Los Angeles'}], 'Chicago': [{'name': 'Bob', 'age': 35, 'city': 'Chicago'}]}\n"
     ]
    }
   ],
   "source": [
    "# Data manipulation and filtering\n",
    "data=[{'name':'John','age':25,'city':'New York'},{'name':'Jane','age':30,'city':'Los Angeles'},{'name':'Bob','age':35,'city':'Chicago'}]\n",
    "\n",
    "# Filtering data based on a condition\n",
    "fild= [p for p in data if p['age'] > 30]\n",
    "print(fild)  \n",
    "\n",
    "# Grouping data by city\n",
    "gd={}\n",
    "for p in data:\n",
    "    city=p['city']\n",
    "    if city in gd:\n",
    "        gd[city].append(p)\n",
    "    else:\n",
    "        gd[city]=[p]\n",
    "print(gd)"
   ]
  },
  {
   "cell_type": "markdown",
   "metadata": {},
   "source": [
    "Dictionary Methods"
   ]
  },
  {
   "cell_type": "code",
   "execution_count": 7,
   "metadata": {},
   "outputs": [
    {
     "name": "stdout",
     "output_type": "stream",
     "text": [
      "dict_keys(['name', 'age', 'address'])\n"
     ]
    }
   ],
   "source": [
    "keys=person.keys()\n",
    "print(keys)"
   ]
  },
  {
   "cell_type": "code",
   "execution_count": 8,
   "metadata": {},
   "outputs": [
    {
     "name": "stdout",
     "output_type": "stream",
     "text": [
      "dict_values(['John Doe', 30, {'street': '123 Main St', 'city': 'New York', 'state': 'NY'}])\n"
     ]
    }
   ],
   "source": [
    "values=person.values()\n",
    "print(values)"
   ]
  },
  {
   "cell_type": "code",
   "execution_count": 9,
   "metadata": {},
   "outputs": [
    {
     "name": "stdout",
     "output_type": "stream",
     "text": [
      "dict_items([('name', 'John Doe'), ('age', 30), ('address', {'street': '123 Main St', 'city': 'New York', 'state': 'NY'})])\n"
     ]
    }
   ],
   "source": [
    "items=person.items()\n",
    "print(items)"
   ]
  },
  {
   "cell_type": "code",
   "execution_count": 10,
   "metadata": {},
   "outputs": [
    {
     "name": "stdout",
     "output_type": "stream",
     "text": [
      "None\n",
      "0\n"
     ]
    }
   ],
   "source": [
    "print(person.get('Name'))  \n",
    "print(person.get('phonenumber', 0))  "
   ]
  },
  {
   "cell_type": "code",
   "execution_count": 12,
   "metadata": {},
   "outputs": [
    {
     "name": "stdout",
     "output_type": "stream",
     "text": [
      "2\n",
      "{'apple': 1, 'orange': 3}\n"
     ]
    }
   ],
   "source": [
    "myd={'apple':1,'banana':2,'orange':3}\n",
    "rv=myd.pop('banana')\n",
    "print(rv) \n",
    "print(myd)"
   ]
  },
  {
   "cell_type": "code",
   "execution_count": 13,
   "metadata": {},
   "outputs": [
    {
     "name": "stdout",
     "output_type": "stream",
     "text": [
      "{}\n"
     ]
    }
   ],
   "source": [
    "myd.clear()\n",
    "print(myd)"
   ]
  },
  {
   "cell_type": "code",
   "execution_count": 14,
   "metadata": {},
   "outputs": [
    {
     "name": "stdout",
     "output_type": "stream",
     "text": [
      "{'name': 'John Doe', 'age': 30, 'address': {'street': '123 Main St', 'city': 'New York', 'state': 'NY'}}\n"
     ]
    }
   ],
   "source": [
    "newd=person.copy()\n",
    "print(newd)"
   ]
  },
  {
   "cell_type": "markdown",
   "metadata": {},
   "source": [
    "Adding and Removing Key-Value Pairs"
   ]
  },
  {
   "cell_type": "code",
   "execution_count": 15,
   "metadata": {},
   "outputs": [],
   "source": [
    "person['email']='aerhbihjetbghuaerbvkierb'\n",
    "poppp=person.pop('age')"
   ]
  },
  {
   "cell_type": "code",
   "execution_count": 16,
   "metadata": {},
   "outputs": [
    {
     "name": "stdout",
     "output_type": "stream",
     "text": [
      "{1: 1, 2: 4, 3: 9, 4: 16, 5: 25}\n"
     ]
    }
   ],
   "source": [
    "# List of numbers\n",
    "n=[1,2,3,4,5]\n",
    "\n",
    "# Dictionary with squares of numbers\n",
    "sq={num:num**2 for num in n}\n",
    "print(sq)"
   ]
  },
  {
   "cell_type": "code",
   "execution_count": 17,
   "metadata": {},
   "outputs": [
    {
     "name": "stdout",
     "output_type": "stream",
     "text": [
      "{1: 'a', 2: 'b', 3: 'c'}\n"
     ]
    }
   ],
   "source": [
    "ori={'a':1,'b':2,'c':3}\n",
    "# New dictionary with keys and values swapped\n",
    "sw={value:key for key,value in ori.items()}\n",
    "print(sw)"
   ]
  },
  {
   "cell_type": "code",
   "execution_count": 19,
   "metadata": {},
   "outputs": [
    {
     "name": "stdout",
     "output_type": "stream",
     "text": [
      "{2: 8, 4: 64, 6: 216, 8: 512, 10: 1000}\n"
     ]
    }
   ],
   "source": [
    "n=[1,2,3,4,5,6,7,8,9,10]\n",
    "\n",
    "# Dictionary with even numbers as keys and their cubes as values\n",
    "evc={num:num**3 for num in n if num%2==0}\n",
    "print(evc)"
   ]
  },
  {
   "cell_type": "code",
   "execution_count": 20,
   "metadata": {},
   "outputs": [
    {
     "name": "stdout",
     "output_type": "stream",
     "text": [
      "{'a': 1, 'b': 2, 'c': 3, 'd': 4, 'e': 5}\n"
     ]
    }
   ],
   "source": [
    "# List of keys\n",
    "keys=['a','b','c','d','e']\n",
    "# List of values\n",
    "values=[1,2,3,4,5]\n",
    "\n",
    "# Dictionary from keys and values\n",
    "newd={key: value for key, value in zip(keys, values)}\n",
    "print(newd)"
   ]
  },
  {
   "cell_type": "markdown",
   "metadata": {},
   "source": [
    "Nesting Dictionaries"
   ]
  },
  {
   "cell_type": "code",
   "execution_count": 21,
   "metadata": {},
   "outputs": [
    {
     "name": "stdout",
     "output_type": "stream",
     "text": [
      "john@example.com\n"
     ]
    }
   ],
   "source": [
    "person={'name':'John','age':30,'contact':{'email': 'john@example.com','phone': '123-456-7890'}}\n",
    "print(person['contact']['email']) "
   ]
  },
  {
   "cell_type": "markdown",
   "metadata": {},
   "source": [
    "Use Cases and Real World Examples"
   ]
  },
  {
   "cell_type": "code",
   "execution_count": 22,
   "metadata": {},
   "outputs": [
    {
     "name": "stdout",
     "output_type": "stream",
     "text": [
      "{'Hello,': 2, 'world!': 1, 'Python!': 1}\n"
     ]
    }
   ],
   "source": [
    "sen=\"Hello, world! Hello, Python!\"\n",
    "wordc={}\n",
    "for word in sen.split():\n",
    "    if word in wordc:\n",
    "        wordc[word] += 1\n",
    "    else:\n",
    "        wordc[word] = 1\n",
    "print(wordc)  "
   ]
  },
  {
   "cell_type": "code",
   "execution_count": 23,
   "metadata": {},
   "outputs": [
    {
     "name": "stdout",
     "output_type": "stream",
     "text": [
      "[{'name': 'Bob', 'age': 35, 'city': 'Chicago'}]\n"
     ]
    }
   ],
   "source": [
    "data=[{'name': 'John', 'age': 25, 'city': 'New York'},{'name': 'Jane', 'age': 30, 'city': 'Los Angeles'},{'name': 'Bob', 'age': 35, 'city': 'Chicago'}]\n",
    "filtered_data=[person for person in data if person['age']>30]\n",
    "print(filtered_data)"
   ]
  },
  {
   "cell_type": "markdown",
   "metadata": {},
   "source": [
    "Solving Problems Using Sets and Dictionaries"
   ]
  },
  {
   "cell_type": "code",
   "execution_count": 24,
   "metadata": {},
   "outputs": [
    {
     "name": "stdout",
     "output_type": "stream",
     "text": [
      "{4, 5}\n",
      "{1: 2, 2: 2, 3: 1, 4: 1, 5: 2}\n"
     ]
    }
   ],
   "source": [
    "list1=[1,2,3,4,5]\n",
    "list2=[4,5,6,7,8]\n",
    "set1=set(list1)\n",
    "set2=set(list2)\n",
    "commone=set1.intersection(set2)\n",
    "print(commone)\n",
    "elements=[1,2,3,1,2,4,5,5]\n",
    "uniquec={element:elements.count(element) for element in set(elements)}\n",
    "print(uniquec) "
   ]
  },
  {
   "cell_type": "markdown",
   "metadata": {},
   "source": [
    "Examples from Data Manipulation, Filtering, and Analysis"
   ]
  },
  {
   "cell_type": "code",
   "execution_count": 25,
   "metadata": {},
   "outputs": [
    {
     "name": "stdout",
     "output_type": "stream",
     "text": [
      "{'New York': [{'name': 'Alice', 'age': 25, 'city': 'New York'}, {'name': 'Charlie', 'age': 35, 'city': 'New York'}], 'Chicago': [{'name': 'Bob', 'age': 30, 'city': 'Chicago'}, {'name': 'David', 'age': 40, 'city': 'Chicago'}]}\n"
     ]
    }
   ],
   "source": [
    "# List of dictionaries\n",
    "data=[{\"name\":\"Alice\",\"age\":25,\"city\":\"New York\"},{\"name\":\"Bob\",\"age\":30,\"city\":\"Chicago\"},{\"name\":\"Charlie\",\"age\":35,\"city\":\"New York\"},{\"name\":\"David\",\"age\":40,\"city\":\"Chicago\"}]\n",
    "# Grouping data by city\n",
    "gd={}\n",
    "for person in data:\n",
    "    city=person[\"city\"]\n",
    "    if city in gd:\n",
    "        gd[city].append(person)\n",
    "    else:\n",
    "        gd[city] = [person]\n",
    "print(gd)"
   ]
  },
  {
   "cell_type": "code",
   "execution_count": 26,
   "metadata": {},
   "outputs": [
    {
     "name": "stdout",
     "output_type": "stream",
     "text": [
      "[{'name': 'Charlie', 'age': 35, 'city': 'New York'}, {'name': 'David', 'age': 40, 'city': 'Chicago'}]\n"
     ]
    }
   ],
   "source": [
    "\n",
    "# List of dictionaries\n",
    "data=[{\"name\":\"Alice\",\"age\":25,\"city\":\"New York\"},{\"name\":\"Bob\",\"age\":30,\"city\":\"Chicago\"},{\"name\":\"Charlie\",\"age\":35,\"city\":\"New York\"},{\"name\":\"David\",\"age\":40,\"city\":\"Chicago\"}]\n",
    "# Filtering data based on age\n",
    "fd=[person for person in data if person[\"age\"]>30]\n",
    "print(fd)"
   ]
  },
  {
   "cell_type": "code",
   "execution_count": 27,
   "metadata": {},
   "outputs": [
    {
     "name": "stdout",
     "output_type": "stream",
     "text": [
      "{'New York': 30.0, 'Chicago': 35.0}\n"
     ]
    }
   ],
   "source": [
    "data=[{\"name\":\"Alice\",\"age\":25,\"city\":\"New York\"},{\"name\":\"Bob\",\"age\":30, \"city\":\"Chicago\"},{\"name\":\"Charlie\",\"age\":35,\"city\":\"New York\"},{\"name\":\"David\",\"age\":40,\"city\":\"Chicago\"}]\n",
    "# Calculating average age by city\n",
    "city_ages={}\n",
    "for person in data:\n",
    "    city=person[\"city\"]\n",
    "    age=person[\"age\"]\n",
    "    if city in city_ages:\n",
    "        city_ages[city].append(age)\n",
    "    else:\n",
    "        city_ages[city]=[age]\n",
    "average_ages={city:sum(ages)/len(ages) for city,ages in city_ages.items()}\n",
    "print(average_ages)"
   ]
  },
  {
   "cell_type": "code",
   "execution_count": 28,
   "metadata": {},
   "outputs": [
    {
     "name": "stdout",
     "output_type": "stream",
     "text": [
      "{'a': 1, 'b': 3, 'c': 4}\n"
     ]
    }
   ],
   "source": [
    "def merge_dicts(dict1,dict2):\n",
    "    merged = dict1.copy()\n",
    "    merged.update(dict2)\n",
    "    return merged\n",
    "dict1={'a':1,'b':2}\n",
    "dict2={'b':3,'c':4}\n",
    "merged_dict=merge_dicts(dict1,dict2)\n",
    "print(merged_dict)"
   ]
  },
  {
   "cell_type": "code",
   "execution_count": 29,
   "metadata": {},
   "outputs": [
    {
     "name": "stdout",
     "output_type": "stream",
     "text": [
      "{1: 'a', 2: 'b', 3: 'c'}\n"
     ]
    }
   ],
   "source": [
    "\n",
    "def invert_dict(dictionary):\n",
    "    inverted={value:key for key, value in dictionary.items()}\n",
    "    return inverted\n",
    "original_dict={'a':1,'b':2,'c':3}\n",
    "inverted_dict=invert_dict(original_dict)\n",
    "print(inverted_dict) "
   ]
  },
  {
   "cell_type": "code",
   "execution_count": 30,
   "metadata": {},
   "outputs": [
    {
     "name": "stdout",
     "output_type": "stream",
     "text": [
      "{'a': 1, 'b': 2, 'c': 3}\n"
     ]
    }
   ],
   "source": [
    "def sort_dict_by_value(dictionary):\n",
    "    sorted_dict=dict(sorted(dictionary.items(),key=lambda x:x[1]))\n",
    "    return sorted_dict\n",
    "unsorted_dict={'b':2,'a':1,'c':3}\n",
    "sorted_dict=sort_dict_by_value(unsorted_dict)\n",
    "print(sorted_dict)"
   ]
  },
  {
   "cell_type": "code",
   "execution_count": 31,
   "metadata": {},
   "outputs": [
    {
     "name": "stdout",
     "output_type": "stream",
     "text": [
      "{'a': 1, 'b': 2, 'd': 3}\n"
     ]
    }
   ],
   "source": [
    "def remove_duplicate_values(dictionary):\n",
    "    unique_values={}\n",
    "    for key, value in dictionary.items():\n",
    "        if value not in unique_values.values():\n",
    "            unique_values[key]=value\n",
    "    return unique_values\n",
    "original_dict={'a':1,'b':2,'c':1,'d':3,'e':2}\n",
    "unique_dict=remove_duplicate_values(original_dict)\n",
    "print(unique_dict)"
   ]
  },
  {
   "cell_type": "code",
   "execution_count": 33,
   "metadata": {},
   "outputs": [
    {
     "name": "stdout",
     "output_type": "stream",
     "text": [
      "{'New York': [{'name': 'Alice', 'age': 25, 'city': 'New York'}, {'name': 'Charlie', 'age': 35, 'city': 'New York'}], 'Chicago': [{'name': 'Bob', 'age': 30, 'city': 'Chicago'}, {'name': 'David', 'age': 40, 'city': 'Chicago'}]}\n"
     ]
    }
   ],
   "source": [
    "def group_by_key(data,key):\n",
    "    grouped={}\n",
    "    for item in data:\n",
    "        value = item[key]\n",
    "        if value in grouped:\n",
    "            grouped[value].append(item)\n",
    "        else:\n",
    "            grouped[value]=[item]\n",
    "    return grouped\n",
    "data=[{'name':'Alice','age':25,'city':'New York'},{'name':'Bob','age':30,'city':'Chicago'},{'name':'Charlie','age':35,'city':'New York'},{'name':'David','age':40,'city':'Chicago'}]\n",
    "grouped_by_city=group_by_key(data,'city')\n",
    "print(grouped_by_city)"
   ]
  }
 ],
 "metadata": {
  "kernelspec": {
   "display_name": "Python 3",
   "language": "python",
   "name": "python3"
  },
  "language_info": {
   "codemirror_mode": {
    "name": "ipython",
    "version": 3
   },
   "file_extension": ".py",
   "mimetype": "text/x-python",
   "name": "python",
   "nbconvert_exporter": "python",
   "pygments_lexer": "ipython3",
   "version": "3.12.4"
  }
 },
 "nbformat": 4,
 "nbformat_minor": 2
}
