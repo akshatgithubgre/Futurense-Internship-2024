{
 "cells": [
  {
   "cell_type": "markdown",
   "metadata": {},
   "source": [
    "# Creating Sets in Python"
   ]
  },
  {
   "cell_type": "code",
   "execution_count": 2,
   "metadata": {},
   "outputs": [
    {
     "name": "stdout",
     "output_type": "stream",
     "text": [
      "{1, 2, 3, 4, 5}\n",
      "{4, 5, 6, 7, 8}\n"
     ]
    }
   ],
   "source": [
    "my_set={1,2,3,4,5}\n",
    "another_set=set([4,5,6,7,8])\n",
    "print(my_set)\n",
    "print(another_set)"
   ]
  },
  {
   "cell_type": "code",
   "execution_count": 3,
   "metadata": {},
   "outputs": [
    {
     "name": "stdout",
     "output_type": "stream",
     "text": [
      "{1, 2, 3, 4, 5}\n"
     ]
    }
   ],
   "source": [
    "set1={1,2,3}\n",
    "set2={3,4,5}\n",
    "union_set=set1|set2\n",
    "print(union_set)"
   ]
  },
  {
   "cell_type": "code",
   "execution_count": 4,
   "metadata": {},
   "outputs": [
    {
     "name": "stdout",
     "output_type": "stream",
     "text": [
      "Shopping list: {'bread', 'apples', 'paper towels', 'detergent', 'milk', 'bananas'}\n"
     ]
    }
   ],
   "source": [
    "glist={\"apples\",\"bananas\",\"milk\",\"bread\"}\n",
    "hlist={\"detergent\",\"paper towels\",\"milk\",\"bread\"}\n",
    "slist=glist|hlist\n",
    "print(\"Shopping list:\",slist)"
   ]
  },
  {
   "cell_type": "code",
   "execution_count": 5,
   "metadata": {},
   "outputs": [
    {
     "name": "stdout",
     "output_type": "stream",
     "text": [
      "{3}\n"
     ]
    }
   ],
   "source": [
    "set1={1,2,3}\n",
    "set2={3,4,5}\n",
    "intersection=set1&set2\n",
    "print(intersection)"
   ]
  },
  {
   "cell_type": "code",
   "execution_count": 6,
   "metadata": {},
   "outputs": [
    {
     "name": "stdout",
     "output_type": "stream",
     "text": [
      "{'hiking'}\n"
     ]
    }
   ],
   "source": [
    "\n",
    "hiking={\"hiking\",\"camping\",\"outdoors\"}\n",
    "photography={\"photography\",\"editing\",\"hiking\"}\n",
    "common=hiking&photography\n",
    "print(common)"
   ]
  },
  {
   "cell_type": "code",
   "execution_count": 7,
   "metadata": {},
   "outputs": [
    {
     "name": "stdout",
     "output_type": "stream",
     "text": [
      "Difference: {1, 2}\n"
     ]
    }
   ],
   "source": [
    "set1={1,2,3}\n",
    "set2={3,4,5}\n",
    "difference_set=set1-set2\n",
    "print(\"Difference:\",difference_set)"
   ]
  },
  {
   "cell_type": "code",
   "execution_count": 8,
   "metadata": {},
   "outputs": [
    {
     "name": "stdout",
     "output_type": "stream",
     "text": [
      "{'The Catcher in the Rye', 'To Kill a Mockingbird'}\n"
     ]
    }
   ],
   "source": [
    "recommended={\"The Catcher in the Rye\", \"1984\", \"To Kill a Mockingbird\", \"Harry Potter\"}\n",
    "read={\"1984\",\"Harry Potter\"}\n",
    "unread=recommended-read\n",
    "print(unread)"
   ]
  },
  {
   "cell_type": "code",
   "execution_count": 9,
   "metadata": {},
   "outputs": [
    {
     "name": "stdout",
     "output_type": "stream",
     "text": [
      "{1, 2, 4, 5}\n"
     ]
    }
   ],
   "source": [
    "set1={1,2,3}\n",
    "set2={3,4,5}\n",
    "symmetric=set1^set2\n",
    "print(symmetric)"
   ]
  },
  {
   "cell_type": "code",
   "execution_count": 10,
   "metadata": {},
   "outputs": [
    {
     "name": "stdout",
     "output_type": "stream",
     "text": [
      "{'burger', 'ice cream', 'fries', 'garlic', 'salad', 'pizza'}\n"
     ]
    }
   ],
   "source": [
    "r1={\"pizza\",\"pasta\",\"salad\",\"garlic\"}\n",
    "r2={\"pasta\",\"burger\",\"fries\",\"ice cream\"}\n",
    "uc=r1^r2\n",
    "print(uc)"
   ]
  },
  {
   "cell_type": "code",
   "execution_count": 11,
   "metadata": {},
   "outputs": [
    {
     "name": "stdout",
     "output_type": "stream",
     "text": [
      "{1, 2, 3}\n",
      "{1, 3}\n"
     ]
    }
   ],
   "source": [
    "my_set={1,2,3}\n",
    "print(my_set)\n",
    "my_set.remove(2)\n",
    "print(my_set)"
   ]
  },
  {
   "cell_type": "code",
   "execution_count": 12,
   "metadata": {},
   "outputs": [
    {
     "name": "stdout",
     "output_type": "stream",
     "text": [
      "{1, 2, 3}\n",
      "{1, 3}\n"
     ]
    }
   ],
   "source": [
    "my_set={1,2,3}\n",
    "print(my_set)\n",
    "my_set.discard(2)\n",
    "print(my_set)"
   ]
  },
  {
   "cell_type": "code",
   "execution_count": 13,
   "metadata": {},
   "outputs": [
    {
     "name": "stdout",
     "output_type": "stream",
     "text": [
      "{1, 2, 3}\n",
      "1\n"
     ]
    }
   ],
   "source": [
    "my_set={1, 2, 3}\n",
    "print(my_set)\n",
    "removed=my_set.pop()\n",
    "print(removed)"
   ]
  },
  {
   "cell_type": "code",
   "execution_count": 14,
   "metadata": {},
   "outputs": [
    {
     "name": "stdout",
     "output_type": "stream",
     "text": [
      "{1, 2, 3}\n",
      "set()\n"
     ]
    }
   ],
   "source": [
    "my_set={1,2,3}\n",
    "print(my_set)\n",
    "my_set.clear()\n",
    "print(my_set)"
   ]
  },
  {
   "cell_type": "code",
   "execution_count": 15,
   "metadata": {},
   "outputs": [
    {
     "name": "stdout",
     "output_type": "stream",
     "text": [
      "{1, 2, 3}\n",
      "{1, 2, 3}\n"
     ]
    }
   ],
   "source": [
    "my={1,2,3}\n",
    "print(my)\n",
    "copied=my.copy()\n",
    "print(copied)"
   ]
  },
  {
   "cell_type": "code",
   "execution_count": 16,
   "metadata": {},
   "outputs": [
    {
     "name": "stdout",
     "output_type": "stream",
     "text": [
      "{1, 2, 3}\n",
      "{1, 2, 3, 4, 5}\n"
     ]
    }
   ],
   "source": [
    "my={1,2,3}\n",
    "print(my)\n",
    "my.update([4, 5])\n",
    "print(my)"
   ]
  },
  {
   "cell_type": "code",
   "execution_count": 17,
   "metadata": {},
   "outputs": [
    {
     "name": "stdout",
     "output_type": "stream",
     "text": [
      "True\n"
     ]
    }
   ],
   "source": [
    "set1={1,2}\n",
    "set2={1,2,3,4}\n",
    "result=set1.issubset(set2)\n",
    "print(result)"
   ]
  },
  {
   "cell_type": "code",
   "execution_count": 18,
   "metadata": {},
   "outputs": [
    {
     "name": "stdout",
     "output_type": "stream",
     "text": [
      "True\n"
     ]
    }
   ],
   "source": [
    "set1={1, 2, 3, 4}\n",
    "set2={1,2}\n",
    "result=set1.issuperset(set2)\n",
    "print(result)"
   ]
  },
  {
   "cell_type": "code",
   "execution_count": 20,
   "metadata": {},
   "outputs": [
    {
     "name": "stdout",
     "output_type": "stream",
     "text": [
      "True\n"
     ]
    }
   ],
   "source": [
    "set1={1,2,3}\n",
    "set2={4,5,6}\n",
    "result=set1.isdisjoint(set2)\n",
    "print(result)"
   ]
  },
  {
   "cell_type": "code",
   "execution_count": 21,
   "metadata": {},
   "outputs": [
    {
     "name": "stdout",
     "output_type": "stream",
     "text": [
      "True\n",
      "False\n"
     ]
    }
   ],
   "source": [
    "my={1,2,3,4,5}\n",
    "print(3 in my)\n",
    "print(6 in my)"
   ]
  },
  {
   "cell_type": "markdown",
   "metadata": {},
   "source": [
    "Set Comprehension in Python"
   ]
  },
  {
   "cell_type": "code",
   "execution_count": 22,
   "metadata": {},
   "outputs": [
    {
     "name": "stdout",
     "output_type": "stream",
     "text": [
      "{1, 4, 9, 16, 25}\n"
     ]
    }
   ],
   "source": [
    "squares={x*x for x in range(1,6)}\n",
    "print(squares)"
   ]
  },
  {
   "cell_type": "code",
   "execution_count": null,
   "metadata": {},
   "outputs": [],
   "source": [
    "even={x*x for x in range(1,6) if x%2==0}\n",
    "print(even)"
   ]
  },
  {
   "cell_type": "markdown",
   "metadata": {},
   "source": [
    "Cartesian Product"
   ]
  },
  {
   "cell_type": "code",
   "execution_count": 23,
   "metadata": {},
   "outputs": [
    {
     "name": "stdout",
     "output_type": "stream",
     "text": [
      "{(1, 'c'), (1, 'a'), (2, 'b'), (2, 'c'), (1, 'b'), (2, 'a')}\n"
     ]
    }
   ],
   "source": [
    "set1 = {1,2}\n",
    "set2 = {'a','b','c'}\n",
    "cartesian={(x,y) for x in set1 for y in set2}\n",
    "print(cartesian)"
   ]
  },
  {
   "cell_type": "markdown",
   "metadata": {},
   "source": [
    "Power Set"
   ]
  },
  {
   "cell_type": "code",
   "execution_count": 24,
   "metadata": {},
   "outputs": [
    {
     "name": "stdout",
     "output_type": "stream",
     "text": [
      "{frozenset({1, 3, 5}), frozenset({1, 4}), frozenset({2, 3, 4}), frozenset({2, 3}), frozenset({1, 2, 3}), frozenset({4, 5}), frozenset({2, 3, 4, 5}), frozenset({1, 2, 5}), frozenset({1}), frozenset({1, 5}), frozenset({1, 2, 3, 4}), frozenset({1, 4, 5}), frozenset({5}), frozenset({4}), frozenset({3, 4}), frozenset({2}), frozenset({1, 2, 4}), frozenset({1, 2}), frozenset({1, 3, 4, 5}), frozenset({1, 2, 3, 5}), frozenset({2, 4, 5}), frozenset({2, 5}), frozenset({3}), frozenset({2, 4}), frozenset({2, 3, 5}), frozenset({1, 2, 3, 4, 5}), frozenset({3, 5}), frozenset({3, 4, 5}), frozenset({1, 3, 4}), frozenset(), frozenset({1, 3}), frozenset({1, 2, 4, 5})}\n"
     ]
    }
   ],
   "source": [
    "def power_set(s):\n",
    "    if len(s)==0:\n",
    "        return {frozenset()}\n",
    "    element=s.pop()\n",
    "    subsets=power_set(s)\n",
    "    return subsets.union({subset.union({element}) for subset in subsets})\n",
    "my={1,2,3}\n",
    "print(power_set(my_set))"
   ]
  },
  {
   "cell_type": "markdown",
   "metadata": {},
   "source": [
    "my={1,2,3}\n",
    "frozen_set=frozenset(my)\n",
    "print(frozen_set)"
   ]
  }
 ],
 "metadata": {
  "kernelspec": {
   "display_name": "Python 3",
   "language": "python",
   "name": "python3"
  },
  "language_info": {
   "codemirror_mode": {
    "name": "ipython",
    "version": 3
   },
   "file_extension": ".py",
   "mimetype": "text/x-python",
   "name": "python",
   "nbconvert_exporter": "python",
   "pygments_lexer": "ipython3",
   "version": "3.12.4"
  }
 },
 "nbformat": 4,
 "nbformat_minor": 2
}
