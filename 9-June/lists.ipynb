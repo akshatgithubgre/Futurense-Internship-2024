{
 "cells": [
  {
   "cell_type": "markdown",
   "metadata": {},
   "source": [
    "# Lists"
   ]
  },
  {
   "cell_type": "code",
   "execution_count": 1,
   "metadata": {},
   "outputs": [
    {
     "name": "stdout",
     "output_type": "stream",
     "text": [
      "['apple', 'banana', 'cherry', 'orange']\n",
      "['apple', 'grape', 'banana', 'cherry', 'orange']\n",
      "['apple', 'grape', 'cherry', 'orange']\n",
      "['apple', 'grape', 'cherry', 'orange'] ['lemon', 'grape', 'cherry', 'orange']\n",
      "['apple', 'grape', 'cherry', 'orange'] ['kiwi', 'grape', 'cherry', 'orange']\n",
      "2\n",
      "['apple', 'grape', 'cherry', 'orange', 'apple', 'pear', 'pineapple']\n",
      "0\n",
      "['apple', 'apple', 'cherry', 'grape', 'orange', 'pear', 'pineapple']\n",
      "['pineapple', 'pear', 'orange', 'grape', 'cherry', 'apple', 'apple']\n",
      "[]\n",
      "['pear'] pineapple\n"
     ]
    }
   ],
   "source": [
    "a=[\"apple\",\"banana\",\"cherry\"]\n",
    "\n",
    "# Append\n",
    "a.append(\"orange\")\n",
    "print(a)\n",
    "\n",
    "# Insert\n",
    "a.insert(1,\"grape\")\n",
    "print(a)\n",
    "\n",
    "# Remove\n",
    "a.remove(\"banana\")\n",
    "print(a)\n",
    "\n",
    "# Copy\n",
    "# Shallow Copy\n",
    "ashallowcopy=a.copy()\n",
    "ashallowcopy[0]=\"lemon\"  \n",
    "print(a,ashallowcopy)\n",
    "\n",
    "# Deep Copy\n",
    "import copy\n",
    "adeepcopy=copy.deepcopy(a)\n",
    "adeepcopy[0]=\"kiwi\"  \n",
    "print(a,adeepcopy)\n",
    "\n",
    "# Count\n",
    "a.append(\"apple\")\n",
    "print(a.count(\"apple\"))\n",
    "\n",
    "# Extend\n",
    "more=[\"pear\", \"pineapple\"]\n",
    "a.extend(more)\n",
    "print(a)\n",
    "\n",
    "# Index\n",
    "aindex=a.index(\"apple\")\n",
    "print(aindex)\n",
    "\n",
    "# Sort\n",
    "a.sort() \n",
    "print(a)\n",
    "\n",
    "# Reverse\n",
    "a.reverse()\n",
    "print(a)\n",
    "\n",
    "# Clear\n",
    "a.clear()\n",
    "print(a)\n",
    "\n",
    "#Pop\n",
    "rm=more.pop()  \n",
    "print(more,rm)"
   ]
  },
  {
   "cell_type": "markdown",
   "metadata": {},
   "source": [
    "# List Comprehension"
   ]
  },
  {
   "cell_type": "code",
   "execution_count": 2,
   "metadata": {},
   "outputs": [
    {
     "name": "stdout",
     "output_type": "stream",
     "text": [
      "[0, 1, 4, 9, 16, 25, 36, 49, 64, 81]\n",
      "[0, 2, 4, 6, 8, 10, 12, 14, 16, 18]\n",
      "['HELLO', 'WORLD', 'PYTHON', 'CODE']\n",
      "[(0, 0), (1, 1), (2, 4), (3, 9), (4, 16), (5, 25), (6, 36), (7, 49), (8, 64), (9, 81)]\n",
      "[1, 2, 3, 4, 5, 6, 7, 8, 9]\n"
     ]
    }
   ],
   "source": [
    "#  list of squares for numbers from 0 to 9\n",
    "sq=[x**2 for x in range(10)]\n",
    "print(sq)\n",
    "\n",
    "# list of even numbers from 0 to 19\n",
    "ev=[x for x in range(20) if x%2==0]\n",
    "print(ev)\n",
    "\n",
    "#  list of words to uppercase\n",
    "w=[\"hello\",\"world\",\"python\",\"code\"]\n",
    "upp=[word.upper() for word in w]\n",
    "print(upp)\n",
    "\n",
    "# list of tuples with numbers and their squares\n",
    "nsqp=[(x,x**2) for x in range(10)]\n",
    "print(nsqp)\n",
    "\n",
    "#  list of lists into a single list\n",
    "nesl=[[1,2,3],[4,5,6],[7,8,9]]\n",
    "fls=[item for sublist in nesl for item in sublist]\n",
    "print(fls)"
   ]
  },
  {
   "cell_type": "markdown",
   "metadata": {},
   "source": [
    "# Indexing"
   ]
  },
  {
   "cell_type": "code",
   "execution_count": 3,
   "metadata": {},
   "outputs": [
    {
     "name": "stdout",
     "output_type": "stream",
     "text": [
      "apple\n",
      "banana\n",
      "elderberry\n",
      "date\n",
      "cherry\n",
      "cherry\n",
      "['apple', 'blueberry', 'cherry', 'date', 'elderberry']\n"
     ]
    }
   ],
   "source": [
    "# Create a list of fruits\n",
    "f=[\"apple\",\"banana\",\"cherry\",\"date\",\"elderberry\"]\n",
    "\n",
    "# Accessing elements using positive indexing\n",
    "firstf=f[0]  \n",
    "secondf=f[1] \n",
    "lastf=f[-1]  \n",
    "print(firstf)  \n",
    "print(secondf) \n",
    "print(lastf)  \n",
    "\n",
    "# Accessing elements using negative indexing\n",
    "secondlastf=f[-2] \n",
    "thirdlastf=f[-3]  \n",
    "print(secondlastf)  \n",
    "print(thirdlastf)  \n",
    "\n",
    "# Get the value of an element at a specific index\n",
    "middlef=f[2]  \n",
    "print(middlef)  \n",
    "\n",
    "# Change the value of an element at a specific index\n",
    "f[1]=\"blueberry\"  \n",
    "print(f)  "
   ]
  },
  {
   "cell_type": "markdown",
   "metadata": {},
   "source": [
    "# Slicing"
   ]
  },
  {
   "cell_type": "code",
   "execution_count": 4,
   "metadata": {},
   "outputs": [
    {
     "name": "stdout",
     "output_type": "stream",
     "text": [
      "['banana', 'cherry', 'date']\n",
      "['banana', 'date', 'fig']\n",
      "['elderberry', 'fig', 'grape']\n",
      "['fig', 'elderberry', 'date']\n",
      "['cherry', 'date', 'elderberry']\n",
      "['apple', 'blueberry', 'cranberry', 'date', 'elderberry', 'fig', 'grape']\n",
      "['apple', 'blueberry', 'elderberry', 'fig', 'grape']\n",
      "['apple', 'kiwi', 'mango', 'blueberry', 'elderberry', 'fig', 'grape']\n"
     ]
    }
   ],
   "source": [
    "# Create a list of fruits\n",
    "f=[\"apple\",\"banana\",\"cherry\",\"date\",\"elderberry\",\"fig\",\"grape\"]\n",
    "\n",
    "# Slice from index 1 to 4 \n",
    "subset1=f[1:4]\n",
    "print(subset1)\n",
    "\n",
    "# Slice with a step\n",
    "subset2=f[1:6:2]  \n",
    "print(subset2)\n",
    "\n",
    "# Slice the last three elements\n",
    "subset3=f[-3:] \n",
    "print(subset3)\n",
    "\n",
    "# Slice from the second to last to the fourth to last \n",
    "subset4=f[-2:-5:-1]  \n",
    "print(subset4)\n",
    "\n",
    "# Extract a portion of the list\n",
    "middlesubset=f[2:5]  \n",
    "print(middlesubset)\n",
    "\n",
    "# Update elements within a slice\n",
    "f[1:3]=[\"blueberry\", \"cranberry\"]  \n",
    "print(f)  \n",
    "\n",
    "# Remove elements within a slice\n",
    "del f[2:4]  \n",
    "print(f)  \n",
    "\n",
    "# Add elements into a specific position\n",
    "f[1:1]=[\"kiwi\",\"mango\"]  \n",
    "print(f)  "
   ]
  },
  {
   "cell_type": "markdown",
   "metadata": {},
   "source": [
    "# Basic searching and sorting in list"
   ]
  },
  {
   "cell_type": "code",
   "execution_count": 5,
   "metadata": {},
   "outputs": [
    {
     "name": "stdout",
     "output_type": "stream",
     "text": [
      "True\n",
      "1\n",
      "date\n"
     ]
    }
   ],
   "source": [
    "# Create a list of fruits\n",
    "f=[\"apple\",\"banana\",\"cherry\",\"date\",\"elderberry\"]\n",
    "\n",
    "# Checking if an element exists in the list\n",
    "hasb=\"banana\" in f\n",
    "print(hasb)\n",
    "\n",
    "# Finding the index of an element\n",
    "bi=f.index(\"banana\")  \n",
    "print(bi)\n",
    "\n",
    "# Iterating through the list to find a specific element\n",
    "etf=\"date\"\n",
    "fe=None\n",
    "for fi in f:\n",
    "    if fi==etf:\n",
    "        fe=fi\n",
    "        break\n",
    "print(fe) "
   ]
  },
  {
   "cell_type": "markdown",
   "metadata": {},
   "source": [
    "# Special Methods"
   ]
  },
  {
   "cell_type": "code",
   "execution_count": 6,
   "metadata": {},
   "outputs": [
    {
     "name": "stdout",
     "output_type": "stream",
     "text": [
      "15\n",
      "5\n",
      "[1, 4, 9, 16, 25]\n",
      "['APPLE', 'BANANA', 'CHERRY']\n",
      "[2, 4, 6]\n",
      "['banana', 'cherry', 'elderberry']\n",
      "[('apple', 10), ('banana', 20), ('cherry', 30)]\n",
      "[('apple', 'red', 10), ('banana', 'yellow', 20), ('cherry', 'red', 30)]\n"
     ]
    }
   ],
   "source": [
    "from functools import reduce\n",
    "\n",
    "# Sum of a list of numbers using reduce\n",
    "n=[1,2,3,4,5]\n",
    "sr=reduce(lambda x,y:x+y,n)  \n",
    "print(sr)\n",
    "\n",
    "# Finding the maximum value in a list using reduce\n",
    "mr=reduce(lambda x,y: x if x>y else y,n)  \n",
    "print(mr)\n",
    "\n",
    "# Convert a list of numbers to their squares using map\n",
    "sq=list(map(lambda x:x**2,[1,2,3,4,5])) \n",
    "print(sq)\n",
    "\n",
    "# Convert a list of strings to their uppercase forms\n",
    "w=[\"apple\",\"banana\",\"cherry\"]\n",
    "upp=list(map(str.upper,w)) \n",
    "print(upp)\n",
    "\n",
    "# Filter a list to get only even numbers\n",
    "ev=list(filter(lambda x:x%2==0,[1,2,3,4,5,6])) \n",
    "print(ev)\n",
    "\n",
    "# Filter a list to get words with more than 5 letters\n",
    "lw=list(filter(lambda word:len(word)>5,[\"apple\",\"banana\",\"cherry\",\"date\",\"elderberry\"])) \n",
    "print(lw)\n",
    "\n",
    "# Zip two lists to create pairs of elements\n",
    "f=[\"apple\",\"banana\",\"cherry\"]\n",
    "q=[10,20,30]\n",
    "fq=list(zip(f,q))  \n",
    "print(fq)\n",
    "\n",
    "# Zip three lists\n",
    "co=[\"red\",\"yellow\",\"red\"]\n",
    "fcq=list(zip(f,co,q)) \n",
    "print(fcq)"
   ]
  },
  {
   "cell_type": "markdown",
   "metadata": {},
   "source": [
    "# Practice Questions"
   ]
  },
  {
   "cell_type": "code",
   "execution_count": 7,
   "metadata": {},
   "outputs": [
    {
     "name": "stdout",
     "output_type": "stream",
     "text": [
      "['apple', 'banana', 'cherry', 'date', 'elderberry', 'fig']\n",
      "['apple', 'grape', 'banana', 'cherry', 'date', 'elderberry', 'fig']\n",
      "['apple', 'grape', 'cherry', 'date', 'elderberry', 'fig']\n",
      "apple fig\n"
     ]
    }
   ],
   "source": [
    "# List for Practice\n",
    "f=[\"apple\",\"banana\",\"cherry\",\"date\",\"elderberry\"]\n",
    "\n",
    "# Q1: Basic Operations with Lists\n",
    "# Add a new fruit \"fig\" to the end of the list\n",
    "f.append(\"fig\")\n",
    "print(f)\n",
    "\n",
    "# Insert \"grape\" at the 2nd position (index 1)\n",
    "f.insert(1,\"grape\")\n",
    "print(f)\n",
    "\n",
    "# Remove the first occurrence of \"banana\"\n",
    "f.remove(\"banana\")\n",
    "print(f)\n",
    "\n",
    "# Return the first and last element of the list\n",
    "ff=f[0]\n",
    "lf=f[-1]\n",
    "print(ff,lf)"
   ]
  },
  {
   "cell_type": "code",
   "execution_count": 8,
   "metadata": {},
   "outputs": [
    {
     "name": "stdout",
     "output_type": "stream",
     "text": [
      "cherry\n",
      "['apple', 'grape', 'cherry']\n",
      "['elderberry', 'fig']\n",
      "['apple', 'blueberry', 'cherry', 'date', 'elderberry', 'fig']\n"
     ]
    }
   ],
   "source": [
    "# Q2: Indexing and Slicing\n",
    "# Get the third fruit from the list\n",
    "tf=f[2]\n",
    "print(tf)\n",
    "\n",
    "# Retrieve a slice containing the first three fruits\n",
    "ftf=f[:3]\n",
    "print(ftf)\n",
    "\n",
    "# Retrieve a slice containing the last two fruits using negative indexing\n",
    "ltf=f[-2:]\n",
    "print(ltf)\n",
    "\n",
    "# Update the second fruit to \"blueberry\"\n",
    "f[1]=\"blueberry\"\n",
    "print(f)"
   ]
  },
  {
   "cell_type": "code",
   "execution_count": 9,
   "metadata": {},
   "outputs": [
    {
     "name": "stdout",
     "output_type": "stream",
     "text": [
      "[1, 2, 3, 4, 5, 6]\n",
      "[0, 1, 2, 3, 4, 5, 6]\n",
      "6 [0, 1, 2, 3, 4, 5]\n",
      "1\n",
      "3\n",
      "[5, 4, 3, 2, 1, 0]\n"
     ]
    }
   ],
   "source": [
    "# Q3: List Methods and Functions\n",
    "n=[1,2,3,4,5]\n",
    "\n",
    "# Append the number 6 to the list\n",
    "n.append(6)\n",
    "print(n)\n",
    "\n",
    "# Insert the number 0 at the beginning of the list\n",
    "n.insert(0, 0)\n",
    "print(n)\n",
    "\n",
    "# Remove and return the last element from the list\n",
    "le=n.pop()\n",
    "print(le,n)\n",
    "\n",
    "# Return the count of occurrences of the number 2\n",
    "co=n.count(2)\n",
    "print(co)\n",
    "\n",
    "# Return the index of the number 3\n",
    "i3=n.index(3)\n",
    "print(i3)\n",
    "\n",
    "# Reverse the order of the list\n",
    "n.reverse()\n",
    "print(n)"
   ]
  },
  {
   "cell_type": "code",
   "execution_count": 10,
   "metadata": {},
   "outputs": [
    {
     "name": "stdout",
     "output_type": "stream",
     "text": [
      "[0, 2, 4, 6, 8, 10, 12, 14, 16, 18, 20]\n",
      "[1, 4, 9, 16, 25, 36, 49, 64, 81, 100]\n",
      "['HELLO', 'WORLD', 'PYTHON', 'LISTS']\n",
      "[1, 2, 3, 4, 5, 6]\n"
     ]
    }
   ],
   "source": [
    "# Q4: List Comprehensions\n",
    "# Create a list of even numbers from 0 to 20\n",
    "en=[x for x in range(21) if x%2==0]\n",
    "print(en)\n",
    "\n",
    "# Create a list of squares of numbers from 1 to 10\n",
    "sq=[x**2 for x in range(1,11)]\n",
    "print(sq)\n",
    "\n",
    "# Create a list of uppercase words from a list\n",
    "w=[\"hello\",\"world\",\"python\",\"lists\"]\n",
    "upp=[word.upper() for word in w]\n",
    "print(upp)\n",
    "\n",
    "# Create a flattened list from a nested list\n",
    "n=[[1,2],[3,4],[5,6]]\n",
    "fl=[item for sublist in n for item in sublist]\n",
    "print(fl)"
   ]
  },
  {
   "cell_type": "code",
   "execution_count": 11,
   "metadata": {},
   "outputs": [
    {
     "name": "stdout",
     "output_type": "stream",
     "text": [
      "True\n",
      "3\n",
      "['apple', 'blueberry', 'cherry', 'date', 'elderberry', 'fig']\n",
      "['fig', 'elderberry', 'date', 'cherry', 'blueberry', 'apple']\n"
     ]
    }
   ],
   "source": [
    "# Q5: Searching and Sorting\n",
    "# Check if \"cherry\" is in the list of fruits\n",
    "hc=\"cherry\" in f\n",
    "print(hc)\n",
    "\n",
    "# Find the index of \"date\" in the list\n",
    "di=f.index(\"date\")\n",
    "print(di)\n",
    "\n",
    "# Sort the list of fruits in ascending order\n",
    "f.sort()\n",
    "print(f)\n",
    "\n",
    "# Sort the list of fruits in descending order\n",
    "f.sort(reverse=True)\n",
    "print(f)"
   ]
  },
  {
   "cell_type": "code",
   "execution_count": 12,
   "metadata": {},
   "outputs": [
    {
     "name": "stdout",
     "output_type": "stream",
     "text": [
      "15\n",
      "[1, 8, 27, 64, 125]\n",
      "[2, 4]\n",
      "[('Alice', 95), ('Bob', 87), ('Charlie', 92)]\n"
     ]
    }
   ],
   "source": [
    "# Q6: Special Methods\n",
    "from functools import reduce\n",
    "\n",
    "# Calculate the sum of the list using `reduce`\n",
    "n=[1,2,3,4,5]\n",
    "ts=reduce(lambda x,y:x+y,n)\n",
    "print(ts)\n",
    "\n",
    "# Create a list of cubes of numbers using `map`\n",
    "cu=list(map(lambda x:x**3,n))\n",
    "print(cu)\n",
    "\n",
    "# Filter out the odd numbers from a list\n",
    "evo=list(filter(lambda x:x%2==0,n))\n",
    "print(evo)\n",
    "\n",
    "# Zip two lists to create pairs of names and scores\n",
    "na=[\"Alice\",\"Bob\",\"Charlie\"]\n",
    "scores=[95, 87, 92]\n",
    "nsp=list(zip(na,scores))\n",
    "print(nsp)"
   ]
  },
  {
   "cell_type": "code",
   "execution_count": null,
   "metadata": {},
   "outputs": [],
   "source": []
  }
 ],
 "metadata": {
  "kernelspec": {
   "display_name": "Python 3",
   "language": "python",
   "name": "python3"
  },
  "language_info": {
   "codemirror_mode": {
    "name": "ipython",
    "version": 3
   },
   "file_extension": ".py",
   "mimetype": "text/x-python",
   "name": "python",
   "nbconvert_exporter": "python",
   "pygments_lexer": "ipython3",
   "version": "3.10.11"
  }
 },
 "nbformat": 4,
 "nbformat_minor": 2
}
