{
 "cells": [
  {
   "cell_type": "markdown",
   "metadata": {},
   "source": [
    "# Tuple"
   ]
  },
  {
   "cell_type": "code",
   "execution_count": 1,
   "metadata": {},
   "outputs": [
    {
     "name": "stdout",
     "output_type": "stream",
     "text": [
      "('apple', 'banana', 'cherry')\n"
     ]
    }
   ],
   "source": [
    "y=(\"apple\",\"banana\",\"cherry\")\n",
    "print(y)"
   ]
  },
  {
   "cell_type": "code",
   "execution_count": 2,
   "metadata": {},
   "outputs": [
    {
     "name": "stdout",
     "output_type": "stream",
     "text": [
      "('apple', 'banana', 'cherry', 'apple', 'cherry')\n",
      "3\n"
     ]
    }
   ],
   "source": [
    "# Allow Duplicates:\n",
    "x=(\"apple\",\"banana\",\"cherry\",\"apple\",\"cherry\")\n",
    "print(x)\n",
    "\n",
    "# Tuple Length:\n",
    "tt=tuple((\"apple\",\"banana\",\"cherry\"))\n",
    "print(len(tt))"
   ]
  },
  {
   "cell_type": "code",
   "execution_count": 3,
   "metadata": {},
   "outputs": [
    {
     "name": "stdout",
     "output_type": "stream",
     "text": [
      "('abc', 34, True, 40, 'male')\n"
     ]
    }
   ],
   "source": [
    "t1=(\"abc\",34,True,40,\"male\")\n",
    "print(t1)"
   ]
  },
  {
   "cell_type": "code",
   "execution_count": 4,
   "metadata": {},
   "outputs": [
    {
     "name": "stdout",
     "output_type": "stream",
     "text": [
      "('apple', 'banana', 'cherry')\n",
      "banana\n",
      "('cherry', 'orange', 'kiwi')\n",
      "('apple', 'banana', 'cherry', 'orange')\n",
      "('orange', 'kiwi', 'melon')\n"
     ]
    }
   ],
   "source": [
    "q=tuple((\"apple\",\"banana\",\"cherry\")) # note the double round-brackets\n",
    "print(q)\n",
    "\n",
    "#Print the second item in the tuple:\n",
    "w=(\"apple\",\"banana\",\"cherry\")\n",
    "print(w[1])\n",
    "\n",
    "#Return the third, fourth, and fifth item:\n",
    "e=(\"apple\",\"banana\",\"cherry\",\"orange\",\"kiwi\",\"melon\",\"mango\")\n",
    "print(e[2:5])\n",
    "\n",
    "#This example returns the items from the beginning to, but NOT included, \"kiwi\":\n",
    "t=(\"apple\",\"banana\",\"cherry\",\"orange\",\"kiwi\",\"melon\",\"mango\")\n",
    "print(t[:4])\n",
    "\n",
    "#This example returns the items from index -4 (included) to index -1 (excluded)\n",
    "le=(\"apple\",\"banana\",\"cherry\",\"orange\",\"kiwi\",\"melon\",\"mango\")\n",
    "print(le[-4:-1])"
   ]
  },
  {
   "cell_type": "code",
   "execution_count": 7,
   "metadata": {},
   "outputs": [
    {
     "name": "stdout",
     "output_type": "stream",
     "text": [
      "('apple', 'banana', 'cherry', 'orange')\n",
      "apple\n",
      "['mango', 'papaya', 'pineapple']\n",
      "cherry\n",
      "apple\n",
      "banana\n",
      "cherry\n"
     ]
    }
   ],
   "source": [
    "#Convert the tuple into a list , add \"orange\", and convert it back into a tuple:\n",
    "tt=(\"apple\",\"banana\",\"cherry\")\n",
    "y=list(tt)\n",
    "y.append(\"orange\")\n",
    "tt=tuple(y)\n",
    "print(tt)\n",
    "     \n",
    "# Using Asterisk*:\n",
    "f=(\"apple\",\"mango\",\"papaya\",\"pineapple\",\"cherry\")\n",
    "\n",
    "(gre,*tro,red)=f\n",
    "print(gre)\n",
    "print(tro)\n",
    "print(red)\n",
    "     \n",
    "\n",
    "# You can loop through the tuple items by using a for loop.\n",
    "i=(\"apple\",\"banana\",\"cherry\")\n",
    "for x in i:\n",
    "  print(x)"
   ]
  },
  {
   "cell_type": "code",
   "execution_count": 8,
   "metadata": {},
   "outputs": [
    {
     "name": "stdout",
     "output_type": "stream",
     "text": [
      "(0, 1, 2, 3, 4, 0, 1, 2, 3, 4, 0, 1, 2, 3, 4)\n",
      "apple\n",
      "banana\n",
      "cherry\n",
      "(1, 2, 3, 4, 5, 6)\n",
      "('apple', 'banana', 'cherry', 'apple', 'banana', 'cherry')\n"
     ]
    }
   ],
   "source": [
    "rn=5# Number to repeat\n",
    "repe=3# Number of repetitions\n",
    "rt=tuple(range(rn))*repe\n",
    "print(rt)\n",
    "\n",
    "tu=(\"apple\",\"banana\",\"cherry\")\n",
    "i=0\n",
    "while i<len(tu):\n",
    "  print(tu[i])\n",
    "  i=i+1  \n",
    "\n",
    "# We can join two tuples\n",
    "tu1=(1,2,3)\n",
    "tu2=(4,5,6)\n",
    "jointu=tu1+tu2\n",
    "print(jointu)\n",
    "f=(\"apple\",\"banana\",\"cherry\")\n",
    "myt=f*2\n",
    "print(myt)"
   ]
  },
  {
   "cell_type": "code",
   "execution_count": 9,
   "metadata": {},
   "outputs": [
    {
     "name": "stdout",
     "output_type": "stream",
     "text": [
      "['apple', 'banana']\n",
      "['cherry', 'date']\n",
      "[1, 10, 20, 30, 5, 6, 7, 8, 9]\n",
      "[1, 10, 20, 30, 40, 50, 5, 6, 7, 8, 9]\n"
     ]
    }
   ],
   "source": [
    "myl=['apple','banana','cherry','date']\n",
    "print(myl[:2])\n",
    "print(myl[2:])\n",
    "\n",
    "n=[1,2,3,4,5,6,7,8,9]\n",
    "n[1:4]=[10,20,30]\n",
    "print(n)\n",
    "\n",
    "n[4:4]=[40, 50]\n",
    "print(n)"
   ]
  },
  {
   "cell_type": "code",
   "execution_count": 10,
   "metadata": {},
   "outputs": [
    {
     "name": "stdout",
     "output_type": "stream",
     "text": [
      "3\n",
      "3\n",
      "2\n",
      "1\n",
      "2\n",
      "2\n",
      "2\n"
     ]
    }
   ],
   "source": [
    "# Creating tuples \n",
    "tu1=(0,1,2,3,2,3,1,3,2) \n",
    "tu2=('python','geek','python','for','java','python') \n",
    "\n",
    "# count the appearance of 3 \n",
    "res=tu1.count(3)\n",
    "print(res) \n",
    "\n",
    "# count the appearance of python \n",
    "res=tu2.count('python') \n",
    "print(res)\n",
    "     \n",
    "# Creating tuples \n",
    "tu=(0,1,(2,3),(2,3),1,[3,2],'geeks',(0,))\n",
    "\n",
    "# count the appearance of (2, 3) \n",
    "res=tu.count((2,3))\n",
    "print(res) \n",
    "\n",
    "# count the appearance of [3, 2] \n",
    "res=tu.count([3,2]) \n",
    "print(res)\n",
    "     \n",
    "f=(\"apple\",\"banana\",\"orange\",\"apple\",\"grape\")\n",
    "ac=f.count(\"apple\")\n",
    "print(ac)  \n",
    "     \n",
    "n=(1,2,3,2,1,4)\n",
    "ct1=n.count(1)\n",
    "ct2=n.count(2)\n",
    "print(ct1)\n",
    "print(ct2)"
   ]
  },
  {
   "cell_type": "code",
   "execution_count": 13,
   "metadata": {},
   "outputs": [
    {
     "name": "stdout",
     "output_type": "stream",
     "text": [
      "3\n",
      "5\n",
      "1\n",
      "Not found\n",
      "1\n",
      "1\n"
     ]
    }
   ],
   "source": [
    "t=(0,1,2,3,2,3,1,3,2) \n",
    "\n",
    "# getting the index of 3 \n",
    "res=t.index(3) \n",
    "print(res) \n",
    "\n",
    "# getting the index of 3 after 4th\n",
    "res=t.index(3, 4) \n",
    "print(res)\n",
    "     \n",
    "\n",
    "# Creating tuples \n",
    "t=(0,1,2,3,2,3,1,3,2) \n",
    "\n",
    "# getting the index of 3 \n",
    "res=t.index(3)\n",
    "     \n",
    "ft=(\"apple\",\"banana\",\"cherry\",\"banana\")\n",
    "\n",
    "# Find the index of \"banana\" (first occurrence)\n",
    "ib=ft.index(\"banana\")\n",
    "print(ib)\n",
    "\n",
    "# Try finding the index of an element not in the tuple\n",
    "try:\n",
    "  im=ft.index(\"mango\")\n",
    "except ValueError:\n",
    "  print(\"Not found\")\n",
    "     \n",
    "nt=(10,20,30,40,20)\n",
    "# Find the index of 20 (starting from index 1 - second element)\n",
    "iaf=nt.index(20,1)\n",
    "print(iaf)\n",
    "\n",
    "# Find the index of 20 (within a specified range)\n",
    "iir=nt.index(20,0,4)\n",
    "print(iir)"
   ]
  },
  {
   "cell_type": "markdown",
   "metadata": {},
   "source": [
    "Built-in Functions"
   ]
  },
  {
   "cell_type": "code",
   "execution_count": 14,
   "metadata": {},
   "outputs": [
    {
     "name": "stdout",
     "output_type": "stream",
     "text": [
      "5\n",
      "3\n"
     ]
    }
   ],
   "source": [
    "n=[1,2,3,4,5]\n",
    "leng=len(n)\n",
    "print(leng)\n",
    "\n",
    "nt=(10,20,30)\n",
    "leng=len(nt)\n",
    "print(leng)"
   ]
  },
  {
   "cell_type": "code",
   "execution_count": 15,
   "metadata": {},
   "outputs": [
    {
     "name": "stdout",
     "output_type": "stream",
     "text": [
      "15\n",
      "60\n"
     ]
    }
   ],
   "source": [
    "n=[1,2,3,4,5]\n",
    "ts=sum(n)\n",
    "print(ts)\n",
    "\n",
    "n=(10,20,30)\n",
    "ts=sum(n)\n",
    "print(ts)"
   ]
  },
  {
   "cell_type": "code",
   "execution_count": 16,
   "metadata": {},
   "outputs": [
    {
     "name": "stdout",
     "output_type": "stream",
     "text": [
      "8\n",
      "30\n"
     ]
    }
   ],
   "source": [
    "n=[1,5,2,8,3]\n",
    "lg=max(n)\n",
    "print(lg)\n",
    "\n",
    "nt=(10,20,30)\n",
    "larg=max(nt)\n",
    "print(larg)"
   ]
  },
  {
   "cell_type": "code",
   "execution_count": 17,
   "metadata": {},
   "outputs": [
    {
     "name": "stdout",
     "output_type": "stream",
     "text": [
      "1\n",
      "10\n"
     ]
    }
   ],
   "source": [
    "n=[1,5,2,8,3]\n",
    "smal=min(n)\n",
    "print(smal)\n",
    "nt=(10,20,30)\n",
    "smal=min(nt)\n",
    "print(smal)"
   ]
  },
  {
   "cell_type": "code",
   "execution_count": 19,
   "metadata": {},
   "outputs": [
    {
     "name": "stdout",
     "output_type": "stream",
     "text": [
      "[1, 2, 3, 5, 8]\n",
      "Sorted tuple: [4, 5, 10, 20, 30]\n"
     ]
    }
   ],
   "source": [
    "n=[1,5,2,8,3]\n",
    "sl=sorted(n)\n",
    "print(sl)\n",
    "\n",
    "n=(10,20,30,4,5)\n",
    "st=sorted(n)\n",
    "print(\"Sorted tuple:\",st)"
   ]
  },
  {
   "cell_type": "markdown",
   "metadata": {},
   "source": [
    "# Hands on exercise(Questions)"
   ]
  },
  {
   "cell_type": "code",
   "execution_count": 20,
   "metadata": {},
   "outputs": [],
   "source": [
    "# Q1.Accessing individual elements\n",
    "f=[\"apple\",\"banana\",\"cherry\"]\n",
    "ff=f[0]\n",
    "lf=f[-1]"
   ]
  },
  {
   "cell_type": "code",
   "execution_count": 21,
   "metadata": {},
   "outputs": [],
   "source": [
    "# Q2.Extracting a sublist:\n",
    "n=[1,2,3,4,5]\n",
    "sl1=n[1:4]\n",
    "sl2=n[2:]"
   ]
  },
  {
   "cell_type": "code",
   "execution_count": 23,
   "metadata": {},
   "outputs": [],
   "source": [
    "# Q3.Copying a list\n",
    "ol=[6,7,8]\n",
    "cl=ol[:]"
   ]
  },
  {
   "cell_type": "code",
   "execution_count": 25,
   "metadata": {},
   "outputs": [],
   "source": [
    "# Q3.Copying a list\n",
    "ol=[6, 7, 8]\n",
    "cl=ol[:]"
   ]
  },
  {
   "cell_type": "code",
   "execution_count": 26,
   "metadata": {},
   "outputs": [
    {
     "name": "stdout",
     "output_type": "stream",
     "text": [
      "4\n",
      "3\n"
     ]
    }
   ],
   "source": [
    "# Q4.Reversing a list:\n",
    "l=['a','b','c','d']\n",
    "rl=l[::-1]\n",
    "     \n",
    "# Q5.Counting occurrences in a string\n",
    "m=\"Hello, world! How is your day?\"\n",
    "co=m.count('o')\n",
    "print(co)\n",
    "\n",
    "# Q6.Counting the occurrences of 2\n",
    "n=[1,2,2,3,1,4,2]\n",
    "co=n.count(2)\n",
    "print(co)"
   ]
  },
  {
   "cell_type": "code",
   "execution_count": 27,
   "metadata": {},
   "outputs": [
    {
     "name": "stdout",
     "output_type": "stream",
     "text": [
      "5\n",
      "4\n",
      "apple\n",
      "grape\n",
      "8\n",
      "9\n"
     ]
    }
   ],
   "source": [
    "# Q7.returns the length\n",
    "nl=[1,2,3,4,5]\n",
    "nt=(6,7,8,9)\n",
    "\n",
    "ll=len(nl)\n",
    "tl=len(nt)\n",
    "print(ll)\n",
    "print(tl)     \n",
    "\n",
    "# Q8.returns the smallest element in the sequence.\n",
    "fl=[\"apple\",\"banana\",\"cherry\"]\n",
    "ft=(\"mango\",\"kiwi\",\"grape\")\n",
    "print(min(fl))\n",
    "print(min(ft))\n",
    "\n",
    "# Q9.This function returns the largest element in the sequence.\n",
    "nl=[1,5,2,8]\n",
    "nt=(3,7,9,0)\n",
    "print(max(nl))\n",
    "print(max(nt))"
   ]
  },
  {
   "cell_type": "code",
   "execution_count": 3,
   "metadata": {},
   "outputs": [
    {
     "name": "stdout",
     "output_type": "stream",
     "text": [
      "24\n",
      "18\n"
     ]
    }
   ],
   "source": [
    "# Q11. This function calculates the sum of all the elements in the sequence (assumes numeric data)\n",
    "nl=[4,7,2,11]\n",
    "nt=(6,3,8,1)\n",
    "print(sum(nl))\n",
    "print(sum(nt))"
   ]
  }
 ],
 "metadata": {
  "kernelspec": {
   "display_name": "Python 3",
   "language": "python",
   "name": "python3"
  },
  "language_info": {
   "codemirror_mode": {
    "name": "ipython",
    "version": 3
   },
   "file_extension": ".py",
   "mimetype": "text/x-python",
   "name": "python",
   "nbconvert_exporter": "python",
   "pygments_lexer": "ipython3",
   "version": "3.12.4"
  }
 },
 "nbformat": 4,
 "nbformat_minor": 2
}
