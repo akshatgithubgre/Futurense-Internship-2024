{
  "nbformat": 4,
  "nbformat_minor": 0,
  "metadata": {
    "colab": {
      "provenance": []
    },
    "kernelspec": {
      "name": "python3",
      "display_name": "Python 3"
    },
    "language_info": {
      "name": "python"
    }
  },
  "cells": [
    {
      "cell_type": "code",
      "execution_count": 3,
      "metadata": {
        "colab": {
          "base_uri": "https://localhost:8080/"
        },
        "id": "o0uPCXFL9acB",
        "outputId": "52fd4e0f-10fc-4c3f-fe38-443240605da0"
      },
      "outputs": [
        {
          "output_type": "stream",
          "name": "stdout",
          "text": [
            "8\n",
            "None\n",
            "25.132741228718345\n",
            "None\n"
          ]
        }
      ],
      "source": [
        "import math\n",
        "def Calculate_area(shape,*alpha):\n",
        "    if(shape=='rectangle'):\n",
        "      print(alpha[0]*alpha[1])\n",
        "    else:\n",
        "      print(math.pi*alpha[0]*alpha[0]*alpha[0])\n",
        "Calculate_area(\"rectangle\",2,4)\n",
        "Calculate_area(\"circle\",2)"
      ]
    },
    {
      "cell_type": "code",
      "source": [
        "def reverse_words(text):\n",
        "    words=text.split()\n",
        "    reversew=words[::-1]\n",
        "    reverse=' '.join(reversew)\n",
        "    print(reverse)\n",
        "reverse_words(\"welcome to AIDE Internship day 2\")"
      ],
      "metadata": {
        "colab": {
          "base_uri": "https://localhost:8080/"
        },
        "id": "wJRtulLB-ctg",
        "outputId": "342dd48b-549f-4200-831e-11d411531cda"
      },
      "execution_count": 5,
      "outputs": [
        {
          "output_type": "stream",
          "name": "stdout",
          "text": [
            "2 day Internship AIDE to welcome\n"
          ]
        }
      ]
    },
    {
      "cell_type": "code",
      "source": [
        "def analyze_list(no):\n",
        "  print(min(no))\n",
        "  print(max(no))\n",
        "  print(sum(no)/len(no))\n",
        "analyze_list([1,2,3,4,5,6,7,8,9,10])"
      ],
      "metadata": {
        "colab": {
          "base_uri": "https://localhost:8080/"
        },
        "id": "M7I3swwz-5Md",
        "outputId": "8307770f-27c9-4553-d5ab-fbe41c57772e"
      },
      "execution_count": 6,
      "outputs": [
        {
          "output_type": "stream",
          "name": "stdout",
          "text": [
            "1\n",
            "10\n",
            "5.5\n"
          ]
        }
      ]
    },
    {
      "cell_type": "code",
      "source": [
        "def filter_short_names(names,max_length):\n",
        "  print(list(filter(lambda x:len(x)<max_length,names)))\n",
        "filter_short_names(\"welcome to AIDE Internship day 2\".split(),4)"
      ],
      "metadata": {
        "colab": {
          "base_uri": "https://localhost:8080/"
        },
        "id": "bpkELPLh_O8i",
        "outputId": "bd2d96a5-cf72-424d-8773-5dbac3334b0c"
      },
      "execution_count": 8,
      "outputs": [
        {
          "output_type": "stream",
          "name": "stdout",
          "text": [
            "['to', 'day', '2']\n"
          ]
        }
      ]
    },
    {
      "cell_type": "code",
      "source": [
        "def analyze_text(text):\n",
        "  words=text.split()\n",
        "  word_count = len(words)\n",
        "  print(word_count)\n",
        "  character_count=len(text.replace(\" \", \"\"))\n",
        "  print(character_count)\n",
        "  word_counts = {}\n",
        "  for word in words:\n",
        "    word_counts[word] = word_counts.get(word, 0) + 1\n",
        "  most_frequent_word = max(word_counts, key=word_counts.get)\n",
        "  print(most_frequent_word)\n",
        "analyze_text(\"welcome to AIDE Internship day 2 todya we have to setup github repo and work with that github repo to sonnect with our team members to complete the project which will be assigned later on\")"
      ],
      "metadata": {
        "colab": {
          "base_uri": "https://localhost:8080/"
        },
        "id": "1lAuGiHF_uJT",
        "outputId": "45b92300-a820-415e-a151-7bb0d001e53a"
      },
      "execution_count": 9,
      "outputs": [
        {
          "output_type": "stream",
          "name": "stdout",
          "text": [
            "35\n",
            "153\n",
            "to\n"
          ]
        }
      ]
    },
    {
      "cell_type": "code",
      "source": [],
      "metadata": {
        "id": "G7h-7sOqBDIu"
      },
      "execution_count": null,
      "outputs": []
    }
  ]
}