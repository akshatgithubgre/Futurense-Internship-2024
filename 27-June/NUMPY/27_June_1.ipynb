{
  "nbformat": 4,
  "nbformat_minor": 0,
  "metadata": {
    "colab": {
      "provenance": []
    },
    "kernelspec": {
      "name": "python3",
      "display_name": "Python 3"
    },
    "language_info": {
      "name": "python"
    }
  },
  "cells": [
    {
      "cell_type": "markdown",
      "source": [
        "Data manipulation is a fundamental skill in data science and analysis, enabling data scientists to transform, clean, and reshape data for further exploration and modeling."
      ],
      "metadata": {
        "id": "EccSO2enIU6C"
      }
    },
    {
      "cell_type": "markdown",
      "source": [
        "Importance of Data Manipulation in Data Science and Analysis\n",
        "Data manipulation involves reshaping, transforming, cleaning, and restructuring data to make it usable for analysis and modeling. It is a critical step because:\n",
        "\n",
        "Data Quality: Raw data is often incomplete, inconsistent, or contains errors. Data manipulation allows you to clean and validate the data.\n",
        "\n",
        "Data Reshaping: Data might not always be in the right format for analysis. Data manipulation helps you reshape it for specific tasks, such as merging, aggregating, or pivoting.\n",
        "\n",
        "Feature Engineering: Data manipulation is essential for creating new features that improve model performance in machine learning.\n",
        "\n",
        "Exploration and Visualization: Manipulating data helps you prepare it for exploratory data analysis (EDA), allowing you to visualize patterns and relationships."
      ],
      "metadata": {
        "id": "u6DgCJ2vIi5T"
      }
    },
    {
      "cell_type": "markdown",
      "source": [
        "Benefits of Using Pandas for Data Cleaning and Analysis\n",
        "\n",
        "Pandas provides numerous benefits for data cleaning and analysis, making it a popular choice among data scientists and analysts. Here are some key advantages:\n",
        "\n",
        "Ease of Use: Pandas has a simple and intuitive API, allowing you to perform complex operations with minimal code.\n",
        "\n",
        "Flexibility: Whether you're cleaning data, performing exploratory analysis, or building models, Pandas offers the flexibility to meet a variety of needs.\n",
        "\n",
        "Handling Large Datasets: Pandas can\n",
        "handle large datasets efficiently, allowing you to work with millions of rows without significant performance issues.\n",
        "\n",
        "Comprehensive Data Cleaning: Pandas provides extensive tools for data cleaning, including handling missing data, removing duplicates, and standardizing data formats.\n",
        "\n",
        "Advanced Data Analysis: With Pandas, you can perform complex operations like group-by, rolling statistics, and multi-level indexing, enabling in-depth analysis."
      ],
      "metadata": {
        "id": "b3EUC41XIaaS"
      }
    },
    {
      "cell_type": "code",
      "source": [
        "import pandas as pd"
      ],
      "metadata": {
        "id": "EgeNs026IfrV"
      },
      "execution_count": 1,
      "outputs": []
    },
    {
      "cell_type": "code",
      "source": [
        "data=[10,20,30,40]\n",
        "s=pd.Series(data,index=[\"a\",\"b\",\"c\",\"d\"])"
      ],
      "metadata": {
        "id": "ZhXwbmgJIst8"
      },
      "execution_count": 2,
      "outputs": []
    },
    {
      "cell_type": "code",
      "source": [
        "print(\"Series from list:\")\n",
        "print(s)"
      ],
      "metadata": {
        "colab": {
          "base_uri": "https://localhost:8080/"
        },
        "id": "PKlvsDLXIuoY",
        "outputId": "92681e05-9457-4088-e43b-f5368cc06f7c"
      },
      "execution_count": 3,
      "outputs": [
        {
          "output_type": "stream",
          "name": "stdout",
          "text": [
            "Series from list:\n",
            "a    10\n",
            "b    20\n",
            "c    30\n",
            "d    40\n",
            "dtype: int64\n"
          ]
        }
      ]
    },
    {
      "cell_type": "code",
      "source": [
        "import numpy as np"
      ],
      "metadata": {
        "id": "rV2cqXAiIvyR"
      },
      "execution_count": 4,
      "outputs": []
    },
    {
      "cell_type": "code",
      "source": [
        "array_data=np.array([1.1,2.2,3.3,4.4])\n",
        "s_from_array=pd.Series(array_data,index=[\"x\",\"y\",\"z\",\"w\"])"
      ],
      "metadata": {
        "id": "BfDWQg4cIwsi"
      },
      "execution_count": 5,
      "outputs": []
    },
    {
      "cell_type": "code",
      "source": [
        "print(\"Series from array:\")\n",
        "print(s_from_array)"
      ],
      "metadata": {
        "colab": {
          "base_uri": "https://localhost:8080/"
        },
        "id": "XrNJcNvJIxmZ",
        "outputId": "a3da469f-ce53-4264-ff46-cad6080c3a71"
      },
      "execution_count": 6,
      "outputs": [
        {
          "output_type": "stream",
          "name": "stdout",
          "text": [
            "Series from array:\n",
            "x    1.1\n",
            "y    2.2\n",
            "z    3.3\n",
            "w    4.4\n",
            "dtype: float64\n"
          ]
        }
      ]
    },
    {
      "cell_type": "code",
      "source": [
        "dict_data={\"Apple\":100,\"Banana\":200,\"Cherry\":300}\n",
        "s_from_dict=pd.Series(dict_data)"
      ],
      "metadata": {
        "id": "7yN8Hm55IzDd"
      },
      "execution_count": 7,
      "outputs": []
    },
    {
      "cell_type": "code",
      "source": [
        "print(\"Series from dictionary:\")\n",
        "print(s_from_dict)"
      ],
      "metadata": {
        "colab": {
          "base_uri": "https://localhost:8080/"
        },
        "id": "wM_nJN0FI05t",
        "outputId": "8d4f4a6a-c3a9-43b0-e727-8dabb5fbe660"
      },
      "execution_count": 8,
      "outputs": [
        {
          "output_type": "stream",
          "name": "stdout",
          "text": [
            "Series from dictionary:\n",
            "Apple     100\n",
            "Banana    200\n",
            "Cherry    300\n",
            "dtype: int64\n"
          ]
        }
      ]
    },
    {
      "cell_type": "code",
      "source": [
        "print(\"Index:\",s.index)\n",
        "print(\"Values:\",s.values)\n",
        "print(\"Data type:\",s.dtype)\n",
        "print(\"Size:\",s.size)"
      ],
      "metadata": {
        "colab": {
          "base_uri": "https://localhost:8080/"
        },
        "id": "-kiA5Ul1I2Bm",
        "outputId": "d1e02e77-2d46-49ee-e613-19578d800217"
      },
      "execution_count": 9,
      "outputs": [
        {
          "output_type": "stream",
          "name": "stdout",
          "text": [
            "Index: Index(['a', 'b', 'c', 'd'], dtype='object')\n",
            "Values: [10 20 30 40]\n",
            "Data type: int64\n",
            "Size: 4\n"
          ]
        }
      ]
    },
    {
      "cell_type": "code",
      "source": [
        "print(\"First two elements:\",s.head(2))\n",
        "print(\"Last two elements:\",s.tail(2))\n",
        "print(\"Sorted values:\",s.sort_values())\n",
        "print(\"Mean of the Series:\",s.mean())"
      ],
      "metadata": {
        "colab": {
          "base_uri": "https://localhost:8080/"
        },
        "id": "9_FnD84TI9Na",
        "outputId": "f602e35d-498a-4e37-99cd-8a3242e10fb1"
      },
      "execution_count": 10,
      "outputs": [
        {
          "output_type": "stream",
          "name": "stdout",
          "text": [
            "First two elements: a    10\n",
            "b    20\n",
            "dtype: int64\n",
            "Last two elements: c    30\n",
            "d    40\n",
            "dtype: int64\n",
            "Sorted values: a    10\n",
            "b    20\n",
            "c    30\n",
            "d    40\n",
            "dtype: int64\n",
            "Mean of the Series: 25.0\n"
          ]
        }
      ]
    }
  ]
}