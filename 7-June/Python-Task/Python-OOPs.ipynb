{
  "nbformat": 4,
  "nbformat_minor": 0,
  "metadata": {
    "colab": {
      "provenance": []
    },
    "kernelspec": {
      "name": "python3",
      "display_name": "Python 3"
    },
    "language_info": {
      "name": "python"
    }
  },
  "cells": [
    {
      "cell_type": "code",
      "execution_count": 1,
      "metadata": {
        "colab": {
          "base_uri": "https://localhost:8080/"
        },
        "id": "x9n7sW2Ex9Ub",
        "outputId": "79b3ca83-6884-492f-8f4c-2942f15939da"
      },
      "outputs": [
        {
          "output_type": "stream",
          "name": "stdout",
          "text": [
            "1\n",
            "2\n"
          ]
        }
      ],
      "source": [
        "class MyClass:\n",
        "\n",
        "    def increment(self):\n",
        "        if not hasattr(self, 'instance_var'):\n",
        "            self.instance_var = 0\n",
        "        self.instance_var += 1\n",
        "        return self.instance_var\n",
        "obj = MyClass()\n",
        "print(obj.increment())\n",
        "print(obj.increment())"
      ]
    },
    {
      "cell_type": "code",
      "source": [
        "class MyClass:\n",
        "    class_var = 0\n",
        "    def increment(self):\n",
        "        MyClass.class_var += 1\n",
        "\n",
        "obj1 = MyClass()\n",
        "obj2 = MyClass()\n",
        "\n",
        "print(MyClass.class_var)\n",
        "obj1.increment()\n",
        "print(MyClass.class_var)\n",
        "obj2.increment()\n",
        "print(MyClass.class_var)"
      ],
      "metadata": {
        "colab": {
          "base_uri": "https://localhost:8080/"
        },
        "id": "A44SbPLAyG4p",
        "outputId": "951f1a77-62a4-4a6a-a1aa-bdadb8f4d36f"
      },
      "execution_count": 2,
      "outputs": [
        {
          "output_type": "stream",
          "name": "stdout",
          "text": [
            "0\n",
            "1\n",
            "2\n"
          ]
        }
      ]
    },
    {
      "cell_type": "code",
      "source": [
        "class MyClass:\n",
        "    def my_method(self):\n",
        "        print(\"This is a normal method.\")\n",
        "obj = MyClass()\n",
        "obj.my_method()"
      ],
      "metadata": {
        "colab": {
          "base_uri": "https://localhost:8080/"
        },
        "id": "2jAyJm7IyRq8",
        "outputId": "13dd7507-3ee3-4f55-af20-5b5cf015e8c4"
      },
      "execution_count": 3,
      "outputs": [
        {
          "output_type": "stream",
          "name": "stdout",
          "text": [
            "This is a normal method.\n"
          ]
        }
      ]
    },
    {
      "cell_type": "code",
      "source": [
        "class MyClass:\n",
        "    class_var = 0\n",
        "    def increment(self):\n",
        "        MyClass.class_var += 1\n",
        "obj1 = MyClass()\n",
        "obj2 = MyClass()\n",
        "print(MyClass.class_var)\n",
        "obj1.increment()\n",
        "print(MyClass.class_var)\n",
        "obj2.increment()\n",
        "print(MyClass.class_var)"
      ],
      "metadata": {
        "colab": {
          "base_uri": "https://localhost:8080/"
        },
        "id": "mkhut7QtygSz",
        "outputId": "9d2b10b0-11a0-4902-8e3f-c48449dab741"
      },
      "execution_count": 4,
      "outputs": [
        {
          "output_type": "stream",
          "name": "stdout",
          "text": [
            "0\n",
            "1\n",
            "2\n"
          ]
        }
      ]
    },
    {
      "cell_type": "code",
      "source": [
        "class MathUtils:\n",
        "    @staticmethod\n",
        "    def is_even(num):\n",
        "        return num % 2 == 0\n",
        "    @staticmethod\n",
        "    def is_prime(num):\n",
        "        if num < 2:\n",
        "            return False\n",
        "        for i in range(2, int(num ** 0.5) + 1):\n",
        "            if num % i == 0:\n",
        "                return False\n",
        "        return True\n",
        "print(MathUtils.is_even(4))\n",
        "print(MathUtils.is_prime(7))"
      ],
      "metadata": {
        "colab": {
          "base_uri": "https://localhost:8080/"
        },
        "id": "vR7mWtVuyqX3",
        "outputId": "e4d4a235-1fb0-40a3-d380-2b07004bb834"
      },
      "execution_count": 5,
      "outputs": [
        {
          "output_type": "stream",
          "name": "stdout",
          "text": [
            "True\n",
            "True\n"
          ]
        }
      ]
    },
    {
      "cell_type": "code",
      "source": [
        "class Person:\n",
        "    def __init__(self, name, age):\n",
        "        self.name = name\n",
        "        self.age = age\n",
        "person1 = Person(\"Alice\", 25)\n",
        "print(person1.name)\n",
        "print(person1.age)"
      ],
      "metadata": {
        "colab": {
          "base_uri": "https://localhost:8080/"
        },
        "id": "jXm_sFrHyunh",
        "outputId": "ee6a3db4-1752-4fa9-9fa4-1fa2821af009"
      },
      "execution_count": 6,
      "outputs": [
        {
          "output_type": "stream",
          "name": "stdout",
          "text": [
            "Alice\n",
            "25\n"
          ]
        }
      ]
    },
    {
      "cell_type": "code",
      "source": [
        "class Person:\n",
        "    def __init__(self, name, age):\n",
        "        self.name = name\n",
        "        self.age = age\n",
        "\n",
        "    def __str__(self):\n",
        "        return f\"{self.name} ({self.age})\"\n",
        "person1 = Person(\"Alice\", 25)\n",
        "print(person1)\n",
        "print(str(person1))"
      ],
      "metadata": {
        "colab": {
          "base_uri": "https://localhost:8080/"
        },
        "id": "o5qdloofyyaI",
        "outputId": "8f47e33c-3a57-42f8-de0d-a99d21aaae8d"
      },
      "execution_count": 7,
      "outputs": [
        {
          "output_type": "stream",
          "name": "stdout",
          "text": [
            "Alice (25)\n",
            "Alice (25)\n"
          ]
        }
      ]
    },
    {
      "cell_type": "code",
      "source": [
        "class Person:\n",
        "    def __new__(cls, *args, **kwargs):\n",
        "        print(\"Creating a new instance of Person\")\n",
        "        return super(Person, cls).__new__(cls)\n",
        "\n",
        "    def __init__(self, name, age):\n",
        "        self.name = name\n",
        "        self.age = age\n",
        "\n",
        "    def __str__(self):\n",
        "        return f\"{self.name} ({self.age})\"\n",
        "person1 = Person(\"Alice\", 25)\n",
        "print(person1)"
      ],
      "metadata": {
        "colab": {
          "base_uri": "https://localhost:8080/"
        },
        "id": "ZIVOX5tgy1iW",
        "outputId": "b41fd92d-af25-4b81-b4b7-0e38e75f489f"
      },
      "execution_count": 8,
      "outputs": [
        {
          "output_type": "stream",
          "name": "stdout",
          "text": [
            "Creating a new instance of Person\n",
            "Alice (25)\n"
          ]
        }
      ]
    },
    {
      "cell_type": "code",
      "source": [
        "class Employee:\n",
        "    def __init__(self, name, age, salary):\n",
        "        self.name = name\n",
        "        self.age = age\n",
        "        self.__salary = salary\n",
        "    def get_salary(self):\n",
        "        return self.__salary\n",
        "    def set_salary(self, new_salary):\n",
        "        if new_salary > 0:\n",
        "            self.__salary = new_salary\n",
        "        else:\n",
        "            print(\"Invalid salary\")\n",
        "employee = Employee(\"John\", 30, 5000)\n",
        "print(employee.get_salary())\n",
        "employee.set_salary(6000)\n",
        "print(employee.get_salary())"
      ],
      "metadata": {
        "colab": {
          "base_uri": "https://localhost:8080/"
        },
        "id": "uj4m8CLzy58n",
        "outputId": "a94c2d44-b0c1-452e-f40c-4e5a6afcc82f"
      },
      "execution_count": 9,
      "outputs": [
        {
          "output_type": "stream",
          "name": "stdout",
          "text": [
            "5000\n",
            "6000\n"
          ]
        }
      ]
    },
    {
      "cell_type": "code",
      "source": [
        "class MyClass:\n",
        "    def __init__(self):\n",
        "        self.__hidden_var = 0\n",
        "\n",
        "    def get_hidden_var(self):\n",
        "        return self.__hidden_var\n",
        "    def set_hidden_var(self, value):\n",
        "        self.__hidden_var = value\n",
        "obj = MyClass()\n",
        "obj.set_hidden_var(10)\n",
        "print(obj.get_hidden_var())\n",
        ""
      ],
      "metadata": {
        "colab": {
          "base_uri": "https://localhost:8080/"
        },
        "id": "Kl-uMTsvzBgV",
        "outputId": "17f64c26-4179-434d-cf93-7ef56cacdbb6"
      },
      "execution_count": 10,
      "outputs": [
        {
          "output_type": "stream",
          "name": "stdout",
          "text": [
            "10\n"
          ]
        }
      ]
    }
  ]
}